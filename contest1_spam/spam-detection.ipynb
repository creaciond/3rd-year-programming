{
 "cells": [
  {
   "cell_type": "markdown",
   "metadata": {},
   "source": [
    "# Распознавание спама в СМС-сообщениях\n",
    "_Контест 1_\n",
    "\n",
    "Сам контест и данные — [тут](https://www.kaggle.com/c/competition-1-lingvo-hse-2018-spam-detection)."
   ]
  },
  {
   "cell_type": "markdown",
   "metadata": {},
   "source": [
    "## Загружаем данные\n",
    "\n",
    "Содержание файлов:\n",
    "* `texts.csv` - текстовое содержание СМС сообщений;\n",
    "* `train.csv` - идентификаторы СМС сообщений и их метки класса (обучающая выборка);\n",
    "* `test.csv` - идентификаторы СМС сообщений (тестовая выборка);\n",
    "* `sample_submission.csv` - пример корректного submission\n",
    "\n",
    "Описание колонок:\n",
    "* `ID` - идентификатор СМС сообщения;\n",
    "* `TEXT` - текстовое содержание СМС сообщения;\n",
    "* `SPAM_PROB` - вероятность того, что сообщение является спамом;\n",
    "* `CATEGORY` - метка класса (spam - сообщение со спамом)"
   ]
  },
  {
   "cell_type": "code",
   "execution_count": 1,
   "metadata": {},
   "outputs": [],
   "source": [
    "import pandas as pd\n",
    "import numpy as np"
   ]
  },
  {
   "cell_type": "markdown",
   "metadata": {},
   "source": [
    "## Данные"
   ]
  },
  {
   "cell_type": "code",
   "execution_count": 2,
   "metadata": {},
   "outputs": [],
   "source": [
    "texts = pd.read_csv(\"./texts.csv\")\n",
    "train = pd.read_csv(\"./train.csv\")\n",
    "test_ids = pd.read_csv(\"./test.csv\")[\"ID\"].as_matrix()"
   ]
  },
  {
   "cell_type": "markdown",
   "metadata": {},
   "source": [
    "### Решаем проблемы\n",
    "\n",
    "#### Бинарные метки классов\n",
    "В `train.csv` классы обозначены как `ham` и `spam`. Поменяем их так, чтобы `ham` стало равно 0, а `spam` — 1."
   ]
  },
  {
   "cell_type": "code",
   "execution_count": 3,
   "metadata": {},
   "outputs": [],
   "source": [
    "def make_binary(data):\n",
    "    if data == \"ham\":\n",
    "        data = 0\n",
    "    else:\n",
    "        data = 1\n",
    "    return data\n",
    "\n",
    "train[\"CATEGORY\"] = train[\"CATEGORY\"].apply(make_binary)"
   ]
  },
  {
   "cell_type": "markdown",
   "metadata": {},
   "source": [
    "#### Отсеиваем лишнее\n",
    "Чтобы нам не мешались тестовые данные, сразу отсеем сообщения с `ID`, попавшими в тест."
   ]
  },
  {
   "cell_type": "code",
   "execution_count": 4,
   "metadata": {},
   "outputs": [
    {
     "data": {
      "text/html": [
       "<div>\n",
       "<style>\n",
       "    .dataframe thead tr:only-child th {\n",
       "        text-align: right;\n",
       "    }\n",
       "\n",
       "    .dataframe thead th {\n",
       "        text-align: left;\n",
       "    }\n",
       "\n",
       "    .dataframe tbody tr th {\n",
       "        vertical-align: top;\n",
       "    }\n",
       "</style>\n",
       "<table border=\"1\" class=\"dataframe\">\n",
       "  <thead>\n",
       "    <tr style=\"text-align: right;\">\n",
       "      <th></th>\n",
       "      <th>ID</th>\n",
       "      <th>TEXT</th>\n",
       "    </tr>\n",
       "  </thead>\n",
       "  <tbody>\n",
       "    <tr>\n",
       "      <th>3</th>\n",
       "      <td>3</td>\n",
       "      <td>Do you like Italian food?</td>\n",
       "    </tr>\n",
       "    <tr>\n",
       "      <th>10</th>\n",
       "      <td>10</td>\n",
       "      <td>New TEXTBUDDY Chat 2 horny guys in ur area 4 j...</td>\n",
       "    </tr>\n",
       "    <tr>\n",
       "      <th>13</th>\n",
       "      <td>13</td>\n",
       "      <td>Hey now am free you can call me.</td>\n",
       "    </tr>\n",
       "    <tr>\n",
       "      <th>15</th>\n",
       "      <td>15</td>\n",
       "      <td>U having lunch alone? I now so bored...</td>\n",
       "    </tr>\n",
       "    <tr>\n",
       "      <th>17</th>\n",
       "      <td>17</td>\n",
       "      <td>Todays Voda numbers ending with 7634 are selec...</td>\n",
       "    </tr>\n",
       "  </tbody>\n",
       "</table>\n",
       "</div>"
      ],
      "text/plain": [
       "    ID                                               TEXT\n",
       "3    3                          Do you like Italian food?\n",
       "10  10  New TEXTBUDDY Chat 2 horny guys in ur area 4 j...\n",
       "13  13                   Hey now am free you can call me.\n",
       "15  15            U having lunch alone? I now so bored...\n",
       "17  17  Todays Voda numbers ending with 7634 are selec..."
      ]
     },
     "execution_count": 4,
     "metadata": {},
     "output_type": "execute_result"
    }
   ],
   "source": [
    "test_texts = texts.loc[texts[\"ID\"].isin(test_ids)]\n",
    "test_texts.head()"
   ]
  },
  {
   "cell_type": "markdown",
   "metadata": {},
   "source": [
    "#### Выделяем тексты и целевую переменную отдельно"
   ]
  },
  {
   "cell_type": "code",
   "execution_count": 5,
   "metadata": {},
   "outputs": [
    {
     "data": {
      "text/html": [
       "<div>\n",
       "<style>\n",
       "    .dataframe thead tr:only-child th {\n",
       "        text-align: right;\n",
       "    }\n",
       "\n",
       "    .dataframe thead th {\n",
       "        text-align: left;\n",
       "    }\n",
       "\n",
       "    .dataframe tbody tr th {\n",
       "        vertical-align: top;\n",
       "    }\n",
       "</style>\n",
       "<table border=\"1\" class=\"dataframe\">\n",
       "  <thead>\n",
       "    <tr style=\"text-align: right;\">\n",
       "      <th></th>\n",
       "      <th>TEXT</th>\n",
       "      <th>CATEGORY</th>\n",
       "    </tr>\n",
       "  </thead>\n",
       "  <tbody>\n",
       "    <tr>\n",
       "      <th>0</th>\n",
       "      <td>Let me know how to contact you. I've you settl...</td>\n",
       "      <td>0</td>\n",
       "    </tr>\n",
       "    <tr>\n",
       "      <th>1</th>\n",
       "      <td>Where can download clear movies. Dvd copies.</td>\n",
       "      <td>0</td>\n",
       "    </tr>\n",
       "    <tr>\n",
       "      <th>2</th>\n",
       "      <td>Desires- u going to doctor 4 liver. And get a ...</td>\n",
       "      <td>0</td>\n",
       "    </tr>\n",
       "    <tr>\n",
       "      <th>3</th>\n",
       "      <td>House-Maid is the murderer, coz the man was mu...</td>\n",
       "      <td>0</td>\n",
       "    </tr>\n",
       "    <tr>\n",
       "      <th>4</th>\n",
       "      <td>True. Its easier with her here.</td>\n",
       "      <td>0</td>\n",
       "    </tr>\n",
       "  </tbody>\n",
       "</table>\n",
       "</div>"
      ],
      "text/plain": [
       "                                                TEXT  CATEGORY\n",
       "0  Let me know how to contact you. I've you settl...         0\n",
       "1       Where can download clear movies. Dvd copies.         0\n",
       "2  Desires- u going to doctor 4 liver. And get a ...         0\n",
       "3  House-Maid is the murderer, coz the man was mu...         0\n",
       "4                    True. Its easier with her here.         0"
      ]
     },
     "execution_count": 5,
     "metadata": {},
     "output_type": "execute_result"
    }
   ],
   "source": [
    "df = texts.merge(train).drop(\"ID\", axis=1)\n",
    "df.head()"
   ]
  },
  {
   "cell_type": "code",
   "execution_count": 6,
   "metadata": {},
   "outputs": [],
   "source": [
    "texts_train = df[\"TEXT\"].as_matrix()\n",
    "y = df[\"CATEGORY\"].as_matrix()"
   ]
  },
  {
   "cell_type": "markdown",
   "metadata": {},
   "source": [
    "## Фичи\n",
    "\n",
    "### TF-IDF"
   ]
  },
  {
   "cell_type": "code",
   "execution_count": 7,
   "metadata": {},
   "outputs": [],
   "source": [
    "from sklearn.feature_extraction.text import TfidfVectorizer"
   ]
  },
  {
   "cell_type": "code",
   "execution_count": 8,
   "metadata": {},
   "outputs": [],
   "source": [
    "vectorizer = TfidfVectorizer(stop_words=\"english\")\n",
    "corpus = texts[\"TEXT\"].as_matrix()\n",
    "vectorizer = vectorizer.fit(corpus)"
   ]
  },
  {
   "cell_type": "code",
   "execution_count": 9,
   "metadata": {},
   "outputs": [],
   "source": [
    "X = vectorizer.transform(texts_train)"
   ]
  },
  {
   "cell_type": "markdown",
   "metadata": {},
   "source": [
    "## Ура, машинное обучение"
   ]
  },
  {
   "cell_type": "code",
   "execution_count": 10,
   "metadata": {},
   "outputs": [],
   "source": [
    "from sklearn.model_selection import train_test_split\n",
    "from sklearn.model_selection import GridSearchCV\n",
    "from sklearn.metrics import roc_auc_score"
   ]
  },
  {
   "cell_type": "code",
   "execution_count": 11,
   "metadata": {},
   "outputs": [],
   "source": [
    "X_train, X_test, y_train, y_test = train_test_split(X, y)"
   ]
  },
  {
   "cell_type": "code",
   "execution_count": 12,
   "metadata": {},
   "outputs": [],
   "source": [
    "def grid_and_count(model, model_str, param_grid):\n",
    "    model = GridSearchCV(model, param_grid)\n",
    "    model.fit(X_train, y_train)\n",
    "    \n",
    "    y_out = model.predict(X_test)\n",
    "    performance = roc_auc_score(y_test, y_out)\n",
    "    print(\"Модель: {}\\nПараметры: {}\\nROC-AUC = {}\".format(model_str, model.best_params_, performance))\n",
    "    return model"
   ]
  },
  {
   "cell_type": "markdown",
   "metadata": {},
   "source": [
    "### Decision Tree"
   ]
  },
  {
   "cell_type": "code",
   "execution_count": 13,
   "metadata": {},
   "outputs": [],
   "source": [
    "from sklearn.tree import DecisionTreeClassifier"
   ]
  },
  {
   "cell_type": "code",
   "execution_count": 14,
   "metadata": {},
   "outputs": [
    {
     "name": "stdout",
     "output_type": "stream",
     "text": [
      "Модель: DecisionTree\n",
      "Параметры: {'max_depth': 74}\n",
      "ROC-AUC = 0.902735181632678\n"
     ]
    }
   ],
   "source": [
    "param_grid = {\"max_depth\": np.arange(3, 100)}\n",
    "tree = DecisionTreeClassifier()\n",
    "tree = grid_and_count(tree, \"DecisionTree\", param_grid)"
   ]
  },
  {
   "cell_type": "markdown",
   "metadata": {},
   "source": [
    "### Random forest"
   ]
  },
  {
   "cell_type": "code",
   "execution_count": 15,
   "metadata": {},
   "outputs": [],
   "source": [
    "from sklearn.ensemble import RandomForestClassifier"
   ]
  },
  {
   "cell_type": "code",
   "execution_count": 16,
   "metadata": {},
   "outputs": [
    {
     "name": "stdout",
     "output_type": "stream",
     "text": [
      "Модель: RandomForest\n",
      "Параметры: {'n_estimators': 41}\n",
      "ROC-AUC = 0.9015438472159432\n"
     ]
    }
   ],
   "source": [
    "param_grid = {\"n_estimators\": np.arange(2,100)}\n",
    "forest = RandomForestClassifier()\n",
    "forest = grid_and_count(forest, \"RandomForest\", param_grid)"
   ]
  },
  {
   "cell_type": "markdown",
   "metadata": {},
   "source": [
    "### Naïve Bayes"
   ]
  },
  {
   "cell_type": "markdown",
   "metadata": {},
   "source": [
    "Используем Multinomial Naïve Bayes, потому что у нас векторы (значит, не Gaussian) с небинарными значениями (значит, не Bernoulli)."
   ]
  },
  {
   "cell_type": "code",
   "execution_count": 17,
   "metadata": {},
   "outputs": [],
   "source": [
    "from sklearn.naive_bayes import MultinomialNB"
   ]
  },
  {
   "cell_type": "code",
   "execution_count": 18,
   "metadata": {},
   "outputs": [
    {
     "data": {
      "text/plain": [
       "MultinomialNB(alpha=1.0, class_prior=None, fit_prior=True)"
      ]
     },
     "execution_count": 18,
     "metadata": {},
     "output_type": "execute_result"
    }
   ],
   "source": [
    "multi_bayes = MultinomialNB()\n",
    "multi_bayes.fit(X_train, y_train)"
   ]
  },
  {
   "cell_type": "code",
   "execution_count": 19,
   "metadata": {},
   "outputs": [
    {
     "name": "stdout",
     "output_type": "stream",
     "text": [
      "Успех по метрике ROC-AUC = 0.8865299788614508\n"
     ]
    }
   ],
   "source": [
    "y_out = multi_bayes.predict(X_test)\n",
    "multi_performance = roc_auc_score(y_test, y_out)\n",
    "print(\"Успех по метрике ROC-AUC = {}\".format(multi_performance))"
   ]
  },
  {
   "cell_type": "markdown",
   "metadata": {},
   "source": [
    "## Считаем для тестовых данных"
   ]
  },
  {
   "cell_type": "code",
   "execution_count": 23,
   "metadata": {},
   "outputs": [],
   "source": [
    "X_goal = vectorizer.transform(test_texts[\"TEXT\"].as_matrix())"
   ]
  },
  {
   "cell_type": "code",
   "execution_count": 24,
   "metadata": {},
   "outputs": [],
   "source": [
    "def count_predictions(model, model_str):\n",
    "    predictions = model.predict_proba(X_goal)[:, 1]\n",
    "    result_dict = {\"ID\": test_ids, \"SPAM_PROB\": predictions}\n",
    "    result_df = pd.DataFrame(result_dict)\n",
    "    result_df.to_csv(\"./submission_{}.csv\".format(model_str), sep=\",\", encoding=\"utf-8\", index=None)"
   ]
  },
  {
   "cell_type": "code",
   "execution_count": 25,
   "metadata": {},
   "outputs": [],
   "source": [
    "count_predictions(tree, \"decisionTree\")\n",
    "count_predictions(forest, \"randomForest\")\n",
    "count_predictions(multi_bayes, \"multinomialBayes\")"
   ]
  }
 ],
 "metadata": {
  "kernelspec": {
   "display_name": "Python 3",
   "language": "python",
   "name": "python3"
  },
  "language_info": {
   "codemirror_mode": {
    "name": "ipython",
    "version": 3
   },
   "file_extension": ".py",
   "mimetype": "text/x-python",
   "name": "python",
   "nbconvert_exporter": "python",
   "pygments_lexer": "ipython3",
   "version": "3.6.2"
  }
 },
 "nbformat": 4,
 "nbformat_minor": 2
}
