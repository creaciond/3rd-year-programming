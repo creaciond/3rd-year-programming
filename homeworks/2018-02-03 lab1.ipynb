{
 "cells": [
  {
   "cell_type": "markdown",
   "metadata": {},
   "source": [
    "## Лабораторная работа 1. Знакомство с основными библиотеками и понятиями анализа данных\n",
    "\n",
    "Постарайтесь оформить всю работу как один монолитный рассказ/отчет. Избегайте дублирования кода. Избегайте использования циклов, всесто этого ищите готовый алгоритм в пакетах. Подписывайте все графики, а также их оси, если график содержит несколько кривых, то обязательно пользуйтесь легендой. Также неукоснительно соблюдайте PEP8. За несоблюдение этих простейших правил итоговые баллы могут быть снижены безапелляционно."
   ]
  },
  {
   "cell_type": "markdown",
   "metadata": {},
   "source": [
    "### 1. (6 баллов) Знакомство с пакетом NumPy\n",
    "\n",
    "![](http://static.wixstatic.com/media/7b913d_7d27b1ff5fe54cc79c80d2cc0e319d92~mv2.jpg)\n",
    "\n",
    "Во всех заданиях данного раздела запрещено пользоваться циклами, а также использовать *builtin* функции *map*, *filter*, *zip*. Таким образом все функции в заданиях должны быть реализованы средствами самого пакета *numpy*. Для каждого задания привидите примеры использования реализованных функций. Предварительно полезно \"по диагонали\" ознакомиться с [документацией пакета](https://docs.scipy.org/doc/numpy-1.13.0/reference/), и детально с классом [numpy.ndarray](https://docs.scipy.org/doc/numpy-1.13.0/reference/generated/numpy.ndarray.html)."
   ]
  },
  {
   "cell_type": "code",
   "execution_count": 1,
   "metadata": {
    "collapsed": true
   },
   "outputs": [],
   "source": [
    "import numpy as np"
   ]
  },
  {
   "cell_type": "markdown",
   "metadata": {},
   "source": [
    "**1. (2 балла)** Реализуйте функцию, принимающую на вход матрицу *X* и некоторое число *v* и возвращающую ближайший к заданному числу элемент матрицы. Например, для X = np.arange(0,10).reshape((2, 5)) и v = 3.6 ответом будет 4."
   ]
  },
  {
   "cell_type": "code",
   "execution_count": 2,
   "metadata": {
    "collapsed": false
   },
   "outputs": [],
   "source": [
    "def nearest_value(X, v):\n",
    "    X = X.flatten()\n",
    "    # начальные величины\n",
    "    min_v = X[0]\n",
    "    min_distance = abs(min_v - v)\n",
    "    for item in X:\n",
    "        dist = abs(item - v)\n",
    "        if dist < min_distance:\n",
    "            min_distance = dist\n",
    "            min_v = item\n",
    "    return min_v"
   ]
  },
  {
   "cell_type": "markdown",
   "metadata": {},
   "source": [
    "**2. (2 балла)** Реализуйте функцию, принимающую на вход матрицу *X* и возвращающую все её уникальные строки в виде матрицы."
   ]
  },
  {
   "cell_type": "code",
   "execution_count": 10,
   "metadata": {
    "collapsed": false
   },
   "outputs": [
    {
     "data": {
      "text/plain": [
       "array([1, 2, 3])"
      ]
     },
     "execution_count": 10,
     "metadata": {},
     "output_type": "execute_result"
    }
   ],
   "source": [
    "def check_unique(row, unique):\n",
    "    is_unique = True\n",
    "    for unique_row in unique:\n",
    "        if not np.array_equal(row, unique_row):\n",
    "            is_unique = False\n",
    "            break\n",
    "    return is_unique\n",
    "\n",
    "\n",
    "def get_unique_rows(X):\n",
    "    unique_ar = np.array([])\n",
    "    for row in X:\n",
    "        is_unique = check_unique(row, unique_ar)\n",
    "        if is_unique:\n",
    "            if unique_ar.shape == (0,):\n",
    "                unique_ar = row\n",
    "            else:\n",
    "                unique_ar = np.vstack([unique_ar, row])\n",
    "    return unique_ar"
   ]
  },
  {
   "cell_type": "markdown",
   "metadata": {},
   "source": [
    "**3. (2 балла)** Реализуйте функцию, которая во входной вещественной матрице *X* находит все значения *numpy.nan* и заменяет их на среднее арифметическое всех остальных элементов. В случае матрицы из одних *numpy.nan* произведите замену на нули."
   ]
  },
  {
   "cell_type": "code",
   "execution_count": null,
   "metadata": {
    "collapsed": true
   },
   "outputs": [],
   "source": [
    "def nans_to_mean(X):\n",
    "    # YOUR CODE HERE"
   ]
  },
  {
   "cell_type": "markdown",
   "metadata": {},
   "source": [
    "### 2. (6 баллов) Знакомство с пакетами Pandas и Seaborn\n",
    "\n",
    "![](https://datasciencelab.files.wordpress.com/2013/11/pandas-drinking-cr.png)"
   ]
  },
  {
   "cell_type": "markdown",
   "metadata": {},
   "source": [
    "В этом задании вам придется работать с датасетом [Wine dataset](https://archive.ics.uci.edu/ml/datasets/wine), описывающим задачу классификации вин в приведенном ниже признаковом пространстве:\n",
    "\n",
    "0. Wine class - метка класса (тип вина),\n",
    "1. Alcohol - содержание спиртов (крепость вина),\n",
    "2. Malic acid - содержание яблочной кислоты,\n",
    "3. Ash - количество осадков,\n",
    "4. Alcalinity of ash - щелчность осадков,\n",
    "5. Magnesium - содержание магния,\n",
    "6. Total phenols - общее содержание фенолов,\n",
    "7. Flavanoids - содержание флаваноидов,\n",
    "8. Nonflavanoid phenols - содержание нефлаваноидных фенолов,\n",
    "9. Proanthocyanins - содержание фенольных проантоцианидинов,\n",
    "10. Color intensity - интенсивность окраски вина,\n",
    "11. Hue - оттенок вина,\n",
    "12. OD280/OD315 of diluted wines - концентрация протеинов OD280/OD315,\n",
    "13. Proline - содержание пролина"
   ]
  },
  {
   "cell_type": "code",
   "execution_count": null,
   "metadata": {
    "collapsed": true
   },
   "outputs": [],
   "source": [
    "import pandas as pd\n",
    "import seaborn as sns\n",
    "import matplotlib.pylab as plt\n",
    "%matplotlib inline"
   ]
  },
  {
   "cell_type": "markdown",
   "metadata": {},
   "source": [
    "**1. (1 балл)** Скачайте данные по ссылкам [wine.data1.csv](https://yadi.sk/d/WomRBWgL3Rf4Dm), [wine.data2.csv](https://yadi.sk/d/Pz4kkQEn3Rf4Dk). Исходные данные разбиты на две части, загрузите каждую часть и объедините в один *pandas.DataFrame*. Отобразите первые 10 записей полученной таблицы."
   ]
  },
  {
   "cell_type": "code",
   "execution_count": null,
   "metadata": {
    "collapsed": false
   },
   "outputs": [],
   "source": [
    "wine_header = wine_header = [\n",
    "    'Wine class', 'Alcohol', 'Malic acid', 'Ash',\n",
    "    'Alcalinity of ash',\n",
    "    'Magnesium', 'Total phenols', 'Flavanoids',\n",
    "    'Nonflavanoid phenols', 'Proanthocyanins',\n",
    "    'Color intensity', 'Hue', 'OD280/OD315 of diluted wines',\n",
    "    'Proline'\n",
    "    ]\n",
    "wine_data1 = pd.read_csv('wine.data1.csv', names=wine_header)"
   ]
  },
  {
   "cell_type": "code",
   "execution_count": null,
   "metadata": {
    "collapsed": false
   },
   "outputs": [],
   "source": [
    "wine_data2 = pd.read_csv('wine.data2.csv')\n",
    "wine_data = pd.concat([wine_data1, wine_data2])\n",
    "wine_data.head(n=10)"
   ]
  },
  {
   "cell_type": "code",
   "execution_count": null,
   "metadata": {
    "collapsed": true
   },
   "outputs": [],
   "source": [
    "# YOUR CODE HERE"
   ]
  },
  {
   "cell_type": "markdown",
   "metadata": {},
   "source": [
    "**2. (1 балл) ** Проверьте, все ли строки полученной таблицы уникальны. Если нет, то удалите дубликаты, оставив одну из пар. Есть ли в данных пропуски?"
   ]
  },
  {
   "cell_type": "code",
   "execution_count": null,
   "metadata": {
    "collapsed": true
   },
   "outputs": [],
   "source": [
    "# YOUR CODE HERE"
   ]
  },
  {
   "cell_type": "markdown",
   "metadata": {},
   "source": [
    "YOUR ANSWER HERE"
   ]
  },
  {
   "cell_type": "markdown",
   "metadata": {},
   "source": [
    "** 3. (2 балла)** Соберите основную статистику для таблицы, ответив на следующие вопросы. Сколько объектов в таблице? Какова размерность признакового пространства? Каково распределение объектов каждого из классов? Каковы средние и медианные значения в каждом классе каждого из признаков?"
   ]
  },
  {
   "cell_type": "code",
   "execution_count": null,
   "metadata": {
    "collapsed": true
   },
   "outputs": [],
   "source": [
    "# YOUR CODE HERE"
   ]
  },
  {
   "cell_type": "markdown",
   "metadata": {},
   "source": [
    "YOUR ANSWER HERE"
   ]
  },
  {
   "cell_type": "markdown",
   "metadata": {},
   "source": [
    "**4. (2 балла) ** Постройте попарную зависимость каждого из признаков, используйте *seaborn.pairplot*. Изучите внимательно полученные зависимости. Как вы думаете в каких комбинациях признаков классы хорошо отделяются друг от друга? Какие из признаков являются наиболее значимыми, а какие нет? Какие из признаков коррелированы друг с другом? Все свои ответы поясните. "
   ]
  },
  {
   "cell_type": "code",
   "execution_count": null,
   "metadata": {
    "collapsed": true
   },
   "outputs": [],
   "source": [
    "# YOUR CODE HERE"
   ]
  },
  {
   "cell_type": "markdown",
   "metadata": {},
   "source": [
    "YOUR ANSWER HERE"
   ]
  },
  {
   "cell_type": "markdown",
   "metadata": {},
   "source": [
    "### 3. (8 баллов) Знакомство с пакетом Sklearn и алгоритмом kNN\n",
    "\n",
    "![](http://www.scipy-lectures.org/_images/scikit-learn-logo.png)"
   ]
  },
  {
   "cell_type": "markdown",
   "metadata": {},
   "source": [
    "В этом задании вам будет предложено продолжить работать с данными Wine dataset. Постарайтесь обойтись без дублирования кода, подготовьте шаблонные функции для построения графиков в заданиях."
   ]
  },
  {
   "cell_type": "markdown",
   "metadata": {},
   "source": [
    "** 1. (1 балл)** Преобразуйте данные  к матричному виду *numpy.array*: создайте из *pandas.DataFrame* отдельно матрицу объект-признак и вектор ответов."
   ]
  },
  {
   "cell_type": "code",
   "execution_count": null,
   "metadata": {
    "collapsed": false
   },
   "outputs": [],
   "source": [
    "# YOUR CODE HERE"
   ]
  },
  {
   "cell_type": "markdown",
   "metadata": {
    "collapsed": true
   },
   "source": [
    "** 2. (2 балла) ** Обучите классификатор *sklearn.neighbors.KNeighborsClassifier* на данных Wine dataset для различных параметров n_neighbors, используя методику *sklearn.model_selection.GridSearchCV*. Постройте график зависимости метрики accuracy от параметра n_neighbors, а также ее $1\\sigma-$доверительный интервал. При каком параметре n_neigbors достигается максимальное значение accyracy? Повторите эксперимент для различных параметров cv: 5, 10, 15. Какие выводы можно сделать?"
   ]
  },
  {
   "cell_type": "code",
   "execution_count": null,
   "metadata": {
    "collapsed": true
   },
   "outputs": [],
   "source": [
    "# YOUR CODE HERE"
   ]
  },
  {
   "cell_type": "markdown",
   "metadata": {},
   "source": [
    "YOUR ANSWER HERE"
   ]
  },
  {
   "cell_type": "markdown",
   "metadata": {},
   "source": [
    "**3. (2 балла) ** Можно ли улучшить accuracy, предварительно преобразовав данные? Трасформируйте данные, используя *sklearn.preprocessing.scale*. Повторите эксперимент из предыдущей задачи для преобразованных данных (можно для единственного параметра cv). Улучшился ли результат? Какие выводы можно сделать? "
   ]
  },
  {
   "cell_type": "code",
   "execution_count": null,
   "metadata": {
    "collapsed": true
   },
   "outputs": [],
   "source": [
    "# YOUR CODE HERE"
   ]
  },
  {
   "cell_type": "markdown",
   "metadata": {},
   "source": [
    "YOUR ANSWER HERE"
   ]
  },
  {
   "cell_type": "markdown",
   "metadata": {},
   "source": [
    "**4. (1 балл) ** Постройте confusion matrix, а также найдите значения метрик: recall, precision, f1-score для лучшего классификатора из предыдущей задачи. Посмотрите в сторону модуля *sklearn.metrics*. Какие выводы можно сделать по полученным значениям метрик?"
   ]
  },
  {
   "cell_type": "code",
   "execution_count": null,
   "metadata": {
    "collapsed": true
   },
   "outputs": [],
   "source": [
    "# YOUR CODE HERE"
   ]
  },
  {
   "cell_type": "markdown",
   "metadata": {},
   "source": [
    "YOUR ANSWER HERE"
   ]
  },
  {
   "cell_type": "markdown",
   "metadata": {},
   "source": [
    "**5. (2 балла) ** В задаче 2.4 вы должны были высказать гипотезу о выжности признаков. Удалите на ваш взгляд неважные признаки, проведите эксперимент предыдущей задачи. Удалите на ваш взгляд самые важные признаки, проведите эксперимент предыдущей задачи. Подтвердились ли вашы гипотезы, сделанные в задаче 2.4?"
   ]
  },
  {
   "cell_type": "code",
   "execution_count": null,
   "metadata": {
    "collapsed": true
   },
   "outputs": [],
   "source": [
    "# YOUR CODE HERE"
   ]
  },
  {
   "cell_type": "code",
   "execution_count": null,
   "metadata": {
    "collapsed": true
   },
   "outputs": [],
   "source": [
    "YOUR ANSWER HERE"
   ]
  },
  {
   "cell_type": "markdown",
   "metadata": {},
   "source": [
    "### 4. (10 баллов) Бонусное задание\n",
    "\n",
    "![](https://i.ytimg.com/vi/FZW-lIorb-8/hqdefault.jpg)\n",
    "\n",
    "P.S. Leon мне ничего не платит:("
   ]
  },
  {
   "cell_type": "markdown",
   "metadata": {},
   "source": [
    "**1. (3 + 2 баллов)** Известно, что метод ближайших соседей неустойчив к шуму. Рассмотрим модельную задачу бинарной классификации с одним признаком и двумя объектами обучающей выборки: $x_1 = 0.1$, $x_2 = 0.5$. Первый объект относится к первому классу, второй - ко второму. Добавим к объектам новый шумовой признак, распределенный равномерно на отрезке $[0, 1]$. Теперь каждый объект описывается уже двумя признаками. Пусть требуется классифицировать новый объект $u=(0,0)$ в этом пространстве методом одного ближайшего соседа (метрика Евклида). Какова вероятность того, что после добавления шума второй объект окажется к нему ближе, чем первый? *Примечание:* задание можно решить теоретически (3 балла), а можно при помощи моделирования [методом Монте-Карло](https://pythonprogramming.net/monte-carlo-simulator-python/) и средствами [numpy.random](https://docs.scipy.org/doc/numpy-1.13.0/reference/routines.random.html) (2 балла)."
   ]
  },
  {
   "cell_type": "code",
   "execution_count": null,
   "metadata": {
    "collapsed": true
   },
   "outputs": [],
   "source": []
  },
  {
   "cell_type": "markdown",
   "metadata": {},
   "source": [
    "**2. (5 баллов)** В алгоритме классификации kNN могут использоваться разные алгоритмы поиска ближайших соседей, различимых с точки зрения вычислительной эффективности. Приведите наиболее известные алгоритмы поиска k ближайших точек в пространстве, выпишите асимптотическую сложность в bigO-нотации для обучения классификатора и для предсказания одного объекта (как для затрат по памяти, так и для машинного времени). Параметры обозначьте как k - количество соседей, n - размерность пространства, M - количество объектов в обучающей выборке. Какие из алгоритмов реализованы в *sklearn.neighbors.KNeighborsClassifier*, какие параметры конструктора за это отвечают?"
   ]
  },
  {
   "cell_type": "code",
   "execution_count": null,
   "metadata": {
    "collapsed": true
   },
   "outputs": [],
   "source": []
  }
 ],
 "metadata": {
  "kernelspec": {
   "display_name": "Python 3",
   "language": "python",
   "name": "python3"
  },
  "language_info": {
   "codemirror_mode": {
    "name": "ipython",
    "version": 3
   },
   "file_extension": ".py",
   "mimetype": "text/x-python",
   "name": "python",
   "nbconvert_exporter": "python",
   "pygments_lexer": "ipython3",
   "version": "3.6.0"
  }
 },
 "nbformat": 4,
 "nbformat_minor": 2
}
