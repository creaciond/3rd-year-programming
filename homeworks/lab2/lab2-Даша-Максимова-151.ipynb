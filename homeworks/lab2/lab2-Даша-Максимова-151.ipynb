{
 "cells": [
  {
   "cell_type": "markdown",
   "metadata": {},
   "source": [
    "## Лабораторная работа 2. Работа с основными библиотеками анализа данных. Логистическая регрессия.\n",
    "\n",
    "Постарайтесь оформить всю работу как один монолитный рассказ/отчет. Избегайте дублирования кода. Избегайте использования циклов, вместо этого ищите готовый алгоритм в пакетах. Подписывайте все графики, а также их оси, если график содержит несколько кривых, то обязательно пользуйтесь легендой. Также неукоснительно соблюдайте PEP8. За несоблюдение этих простейших правил итоговые баллы могут быть снижены безапелляционно."
   ]
  },
  {
   "cell_type": "markdown",
   "metadata": {},
   "source": [
    "### 1. (5 баллов) More NumPy\n",
    "\n",
    "![](http://static.wixstatic.com/media/7b913d_7d27b1ff5fe54cc79c80d2cc0e319d92~mv2.jpg)\n",
    "\n",
    "Во всех заданиях данного раздела запрещено пользоваться циклами, а также использовать *builtin* функции *map*, *filter*, *zip*. Таким образом все функции в заданиях должны быть реализованы средствами самого пакета *numpy*. Для каждого задания привидите **не менее четырех** примеров использования, тестирующих реализацию функций. Предварительно полезно \"по диагонали\" ознакомиться с [документацией пакета](https://docs.scipy.org/doc/numpy-1.13.0/reference/), и детально с описанием класса [numpy.ndarray](https://docs.scipy.org/doc/numpy-1.13.0/reference/generated/numpy.ndarray.html)."
   ]
  },
  {
   "cell_type": "code",
   "execution_count": 1,
   "metadata": {
    "collapsed": true
   },
   "outputs": [],
   "source": [
    "import numpy as np"
   ]
  },
  {
   "cell_type": "markdown",
   "metadata": {},
   "source": [
    "**1. (1 балл)** Реализуйте функцию, которая получает на вход матрицу и масштабирует каждый её столбец, а именно вычитает из столбца его среднее значение и делит столбец на стандартное отклонение. Убедитесь, что в функции не будет происходить деления на ноль."
   ]
  },
  {
   "cell_type": "code",
   "execution_count": null,
   "metadata": {
    "collapsed": true
   },
   "outputs": [],
   "source": [
    "def matrix_scaler(X):\n",
    "    # YOUR CODE HERE"
   ]
  },
  {
   "cell_type": "markdown",
   "metadata": {},
   "source": [
    "**2. (1 балл)** Реализуйте функцию для подсчёта произведения ненулевых элементов на диагонали прямоугольной матрицы. Если ненулевых элементов нет, функция должна возвращать *None*."
   ]
  },
  {
   "cell_type": "code",
   "execution_count": null,
   "metadata": {
    "collapsed": true
   },
   "outputs": [],
   "source": [
    "def nonzero_diag_product(X):\n",
    "    try:\n",
    "        prod = np.prod(np.diag(X))\n",
    "        if prod == 0:\n",
    "            return None\n",
    "        else:\n",
    "            return prod\n",
    "    except:\n",
    "        return ValueError(\"Something is worng with the array, try again\")"
   ]
  },
  {
   "cell_type": "markdown",
   "metadata": {},
   "source": [
    "**3. (2 балла)** Даны две вещественные матрицы *X* и *Y* с одинаковым числом столбцов и, в общем случае, различным числом строк. Необходимо реализовать функцию, вычисляющую матрицу попарных евклидовых расстояний между всеми элементами декартового произведения строк *X* и *Y* (аналог *sklearn.metrics.pairwise_distances*). Рекомендуется обратить внимание на функции *np.dot*, *np.repeat*, *np.reshape*, *np.transpose*, *np.sqrt*, *np.sum* и *np.power*. Но не запрещается пользоваться аналогами."
   ]
  },
  {
   "cell_type": "code",
   "execution_count": null,
   "metadata": {
    "collapsed": true
   },
   "outputs": [],
   "source": [
    "from scipy.spatial.distance import cdist\n",
    "\n",
    "\n",
    "def count_euclidean_distance(X, Y):\n",
    "    xs = X.shape\n",
    "    ys = Y.shape\n",
    "    if len(xs) != 2:\n",
    "        raise ValueError('X must be 2-dimensional array.')\n",
    "    if len(ys) != 2:\n",
    "        raise ValueError('X must be 2-dimensional array.')\n",
    "    if xs[1] != ys[1]:\n",
    "        raise ValueError('X and Y must have the same number of columns.')\n",
    "    cartesian = numpy.transpose([numpy.tile(X, len(Y)), numpy.repeat(Y, len(X))])\n",
    "    distances = cdist(catresian)\n",
    "    return distances"
   ]
  },
  {
   "cell_type": "markdown",
   "metadata": {},
   "source": [
    "**4. (1 балл)** Реализуйте функцию, которая для заданной матрицы находит:\n",
    " - определитель\n",
    " - след\n",
    " - наименьший и наибольший элементы\n",
    " - норму Фробениуса\n",
    " - собственные числа\n",
    " - обратную матрицу"
   ]
  },
  {
   "cell_type": "code",
   "execution_count": null,
   "metadata": {
    "collapsed": true
   },
   "outputs": [],
   "source": [
    "class MatrixStats(dict):\n",
    "    \n",
    "    @classmethod\n",
    "    def calculate(cls, matrix):\n",
    "        return get_stats(matrix)\n",
    "    \n",
    "\n",
    "def get_stats(X):\n",
    "    stats = MatrixStats()\n",
    "    stats[\"det\"] = np.linalg.det(X)\n",
    "    stats[\"trace\"] = np.trace(X)\n",
    "    stats[\"max\"] = np.amax(X)\n",
    "    stats[\"min\"] = np.amin(X)\n",
    "    stats[\"norm\"] = np.linalg.norm(X)\n",
    "    stats[\"eigvals\"] = np.linalg.eig(X)\n",
    "    stats[\"inv\"] = np.linalg.inv(X)\n",
    "    return stats\n",
    "\n",
    "stats = MatrixStats.calculate(np.eye(4))\n",
    "assert stats['det'] == 1.0\n",
    "assert (stats['mat'] == np.eye(4)).all()\n",
    "assert (stats['inv'] == np.eye(4)).all()\n",
    "assert (stats['eigvals'] == np.ones(4)).all()\n",
    "assert stats['max'] == 1.0\n",
    "assert stats['min'] == 0.0\n",
    "assert stats['norm'] == 2.0\n",
    "assert stats['trace'] == 4.0"
   ]
  },
  {
   "cell_type": "markdown",
   "metadata": {},
   "source": [
    "### 2. (5 баллов) More Pandas\n",
    "\n",
    "![](https://metrouk2.files.wordpress.com/2015/10/panda.jpg)\n",
    "\n",
    "Загрузите данные о пассажирах Титаника из файлов *titanic_data.csv* и *titanic_surv.csv* и ответьте на вопросы ниже. Каждый ответ поясните.\n",
    "\n",
    "Информация о файлах: \n",
    " - *titanic_data.csv* содержит различную информацию о пассажирах Титаника (билет, класс, возраст и т.п.)\n",
    " - *titanic_surv.csv* содержит для каждого пассажира из первого файла информацию о том, выжил ли этот пассажир (метка 1) или нет (метка 0)"
   ]
  },
  {
   "cell_type": "code",
   "execution_count": 2,
   "metadata": {
    "collapsed": true
   },
   "outputs": [],
   "source": [
    "import pandas as pd"
   ]
  },
  {
   "cell_type": "markdown",
   "metadata": {},
   "source": [
    "**1. (2 балла)** Сделайте join двух датафреймов в один по полю индекса. Опишите данный датасет: какое расределение женщин/мужчин в нем? Сколько пассажиров ехало в каждом классе? Какой средний/минимальный/максимальный возраст пассажиров? Сколько было выживших пассажиров?"
   ]
  },
  {
   "cell_type": "code",
   "execution_count": 3,
   "metadata": {},
   "outputs": [
    {
     "data": {
      "text/html": [
       "<div>\n",
       "<style>\n",
       "    .dataframe thead tr:only-child th {\n",
       "        text-align: right;\n",
       "    }\n",
       "\n",
       "    .dataframe thead th {\n",
       "        text-align: left;\n",
       "    }\n",
       "\n",
       "    .dataframe tbody tr th {\n",
       "        vertical-align: top;\n",
       "    }\n",
       "</style>\n",
       "<table border=\"1\" class=\"dataframe\">\n",
       "  <thead>\n",
       "    <tr style=\"text-align: right;\">\n",
       "      <th></th>\n",
       "      <th>Pclass</th>\n",
       "      <th>Name</th>\n",
       "      <th>Sex</th>\n",
       "      <th>Age</th>\n",
       "      <th>SibSp</th>\n",
       "      <th>Parch</th>\n",
       "      <th>Ticket</th>\n",
       "      <th>Fare</th>\n",
       "      <th>Cabin</th>\n",
       "      <th>Embarked</th>\n",
       "      <th>Survived</th>\n",
       "    </tr>\n",
       "  </thead>\n",
       "  <tbody>\n",
       "    <tr>\n",
       "      <th>0</th>\n",
       "      <td>NaN</td>\n",
       "      <td>NaN</td>\n",
       "      <td>NaN</td>\n",
       "      <td>NaN</td>\n",
       "      <td>NaN</td>\n",
       "      <td>NaN</td>\n",
       "      <td>NaN</td>\n",
       "      <td>NaN</td>\n",
       "      <td>NaN</td>\n",
       "      <td>NaN</td>\n",
       "      <td>0.0</td>\n",
       "    </tr>\n",
       "    <tr>\n",
       "      <th>1</th>\n",
       "      <td>3.0</td>\n",
       "      <td>Braund, Mr. Owen Harris</td>\n",
       "      <td>male</td>\n",
       "      <td>22.0</td>\n",
       "      <td>1.0</td>\n",
       "      <td>0.0</td>\n",
       "      <td>A/5 21171</td>\n",
       "      <td>7.2500</td>\n",
       "      <td>NaN</td>\n",
       "      <td>S</td>\n",
       "      <td>1.0</td>\n",
       "    </tr>\n",
       "    <tr>\n",
       "      <th>2</th>\n",
       "      <td>1.0</td>\n",
       "      <td>Cumings, Mrs. John Bradley (Florence Briggs Th...</td>\n",
       "      <td>female</td>\n",
       "      <td>38.0</td>\n",
       "      <td>1.0</td>\n",
       "      <td>0.0</td>\n",
       "      <td>PC 17599</td>\n",
       "      <td>71.2833</td>\n",
       "      <td>C85</td>\n",
       "      <td>C</td>\n",
       "      <td>1.0</td>\n",
       "    </tr>\n",
       "    <tr>\n",
       "      <th>3</th>\n",
       "      <td>3.0</td>\n",
       "      <td>Heikkinen, Miss. Laina</td>\n",
       "      <td>female</td>\n",
       "      <td>26.0</td>\n",
       "      <td>0.0</td>\n",
       "      <td>0.0</td>\n",
       "      <td>STON/O2. 3101282</td>\n",
       "      <td>7.9250</td>\n",
       "      <td>NaN</td>\n",
       "      <td>S</td>\n",
       "      <td>1.0</td>\n",
       "    </tr>\n",
       "    <tr>\n",
       "      <th>4</th>\n",
       "      <td>1.0</td>\n",
       "      <td>Futrelle, Mrs. Jacques Heath (Lily May Peel)</td>\n",
       "      <td>female</td>\n",
       "      <td>35.0</td>\n",
       "      <td>1.0</td>\n",
       "      <td>0.0</td>\n",
       "      <td>113803</td>\n",
       "      <td>53.1000</td>\n",
       "      <td>C123</td>\n",
       "      <td>S</td>\n",
       "      <td>0.0</td>\n",
       "    </tr>\n",
       "  </tbody>\n",
       "</table>\n",
       "</div>"
      ],
      "text/plain": [
       "   Pclass                                               Name     Sex   Age  \\\n",
       "0     NaN                                                NaN     NaN   NaN   \n",
       "1     3.0                            Braund, Mr. Owen Harris    male  22.0   \n",
       "2     1.0  Cumings, Mrs. John Bradley (Florence Briggs Th...  female  38.0   \n",
       "3     3.0                             Heikkinen, Miss. Laina  female  26.0   \n",
       "4     1.0       Futrelle, Mrs. Jacques Heath (Lily May Peel)  female  35.0   \n",
       "\n",
       "   SibSp  Parch            Ticket     Fare Cabin Embarked  Survived  \n",
       "0    NaN    NaN               NaN      NaN   NaN      NaN       0.0  \n",
       "1    1.0    0.0         A/5 21171   7.2500   NaN        S       1.0  \n",
       "2    1.0    0.0          PC 17599  71.2833   C85        C       1.0  \n",
       "3    0.0    0.0  STON/O2. 3101282   7.9250   NaN        S       1.0  \n",
       "4    1.0    0.0            113803  53.1000  C123        S       0.0  "
      ]
     },
     "execution_count": 3,
     "metadata": {},
     "output_type": "execute_result"
    }
   ],
   "source": [
    "titanic_info = pd.read_csv(\"./titanic_data.csv\", sep=\",\").set_index(\"PassengerId\")\n",
    "titanic_surv = pd.read_csv(\"./titanic_surv.csv\", sep=\",\")\n",
    "titanic_df = pd.concat([titanic_info, titanic_surv], axis=1)\n",
    "titanic_df.head()"
   ]
  },
  {
   "cell_type": "code",
   "execution_count": 25,
   "metadata": {},
   "outputs": [
    {
     "name": "stdout",
     "output_type": "stream",
     "text": [
      "1) На Титанике плыло 577 мужчин и 314 женщин.\n",
      "\n",
      "2) Минимальный возраст: 0.42, максимальный возраст: 80.0\n",
      "Средний возраст: 29.70\n",
      "\n",
      "3) Распределение по классам:\n",
      "3.0    491\n",
      "1.0    216\n",
      "2.0    184\n",
      "Name: Pclass, dtype: int64\n",
      "\n",
      "4) Выжившие: 342\n"
     ]
    }
   ],
   "source": [
    "# распределение\n",
    "print(\"1) На Титанике плыло {} мужчин и {} женщин.\".format(len(titanic_df[titanic_df[\"Sex\"] == \"male\"]),\n",
    "                                                        len(titanic_df[titanic_df[\"Sex\"] == \"female\"])))\n",
    "# возраст\n",
    "print(\"\\n2) Минимальный возраст: {}, максимальный возраст: {}\".format(titanic_df[\"Age\"].min(), titanic_df[\"Age\"].max()))\n",
    "print(\"Средний возраст: {:.2f}\".format(titanic_df[\"Age\"].mean()))\n",
    "# классы\n",
    "print(\"\\n3) Распределение по классам:\")\n",
    "print(titanic_df[\"Pclass\"].value_counts())\n",
    "# выживших\n",
    "print(\"\\n4)Выжившие: {}\".format(len(titanic_df[titanic_df[\"Survived\"] == 1])))"
   ]
  },
  {
   "cell_type": "markdown",
   "metadata": {},
   "source": [
    "**2. (2 балла)** Верно ли, что женщины выживали чаще мужчин? Какие пассажиры выживали чаще: с более дешевыми или дорогими билетами? Верно ли, что чаще выживали более молодые пассажиры?"
   ]
  },
  {
   "cell_type": "code",
   "execution_count": 24,
   "metadata": {},
   "outputs": [
    {
     "data": {
      "text/html": [
       "<div>\n",
       "<style>\n",
       "    .dataframe thead tr:only-child th {\n",
       "        text-align: right;\n",
       "    }\n",
       "\n",
       "    .dataframe thead th {\n",
       "        text-align: left;\n",
       "    }\n",
       "\n",
       "    .dataframe tbody tr th {\n",
       "        vertical-align: top;\n",
       "    }\n",
       "</style>\n",
       "<table border=\"1\" class=\"dataframe\">\n",
       "  <thead>\n",
       "    <tr style=\"text-align: right;\">\n",
       "      <th>Sex</th>\n",
       "      <th>female</th>\n",
       "      <th>male</th>\n",
       "    </tr>\n",
       "    <tr>\n",
       "      <th>Survived</th>\n",
       "      <th></th>\n",
       "      <th></th>\n",
       "    </tr>\n",
       "  </thead>\n",
       "  <tbody>\n",
       "    <tr>\n",
       "      <th>0.0</th>\n",
       "      <td>0.216854</td>\n",
       "      <td>0.398876</td>\n",
       "    </tr>\n",
       "    <tr>\n",
       "      <th>1.0</th>\n",
       "      <td>0.135955</td>\n",
       "      <td>0.248315</td>\n",
       "    </tr>\n",
       "  </tbody>\n",
       "</table>\n",
       "</div>"
      ],
      "text/plain": [
       "Sex         female      male\n",
       "Survived                    \n",
       "0.0       0.216854  0.398876\n",
       "1.0       0.135955  0.248315"
      ]
     },
     "execution_count": 24,
     "metadata": {},
     "output_type": "execute_result"
    }
   ],
   "source": [
    "pd.crosstab(titanic_df[\"Survived\"], titanic_df[\"Sex\"], normalize=True)"
   ]
  },
  {
   "cell_type": "code",
   "execution_count": 30,
   "metadata": {},
   "outputs": [
    {
     "data": {
      "text/html": [
       "<div>\n",
       "<style>\n",
       "    .dataframe thead tr:only-child th {\n",
       "        text-align: right;\n",
       "    }\n",
       "\n",
       "    .dataframe thead th {\n",
       "        text-align: left;\n",
       "    }\n",
       "\n",
       "    .dataframe tbody tr th {\n",
       "        vertical-align: top;\n",
       "    }\n",
       "</style>\n",
       "<table border=\"1\" class=\"dataframe\">\n",
       "  <thead>\n",
       "    <tr style=\"text-align: right;\">\n",
       "      <th>Survived</th>\n",
       "      <th>0.0</th>\n",
       "      <th>1.0</th>\n",
       "    </tr>\n",
       "    <tr>\n",
       "      <th>Fare</th>\n",
       "      <th></th>\n",
       "      <th></th>\n",
       "    </tr>\n",
       "  </thead>\n",
       "  <tbody>\n",
       "    <tr>\n",
       "      <th>0.0000</th>\n",
       "      <td>11</td>\n",
       "      <td>4</td>\n",
       "    </tr>\n",
       "    <tr>\n",
       "      <th>4.0125</th>\n",
       "      <td>1</td>\n",
       "      <td>0</td>\n",
       "    </tr>\n",
       "    <tr>\n",
       "      <th>5.0000</th>\n",
       "      <td>1</td>\n",
       "      <td>0</td>\n",
       "    </tr>\n",
       "    <tr>\n",
       "      <th>6.2375</th>\n",
       "      <td>0</td>\n",
       "      <td>1</td>\n",
       "    </tr>\n",
       "    <tr>\n",
       "      <th>6.4375</th>\n",
       "      <td>1</td>\n",
       "      <td>0</td>\n",
       "    </tr>\n",
       "    <tr>\n",
       "      <th>6.4500</th>\n",
       "      <td>1</td>\n",
       "      <td>0</td>\n",
       "    </tr>\n",
       "    <tr>\n",
       "      <th>6.4958</th>\n",
       "      <td>2</td>\n",
       "      <td>0</td>\n",
       "    </tr>\n",
       "    <tr>\n",
       "      <th>6.7500</th>\n",
       "      <td>2</td>\n",
       "      <td>0</td>\n",
       "    </tr>\n",
       "    <tr>\n",
       "      <th>6.8583</th>\n",
       "      <td>0</td>\n",
       "      <td>1</td>\n",
       "    </tr>\n",
       "    <tr>\n",
       "      <th>6.9500</th>\n",
       "      <td>1</td>\n",
       "      <td>0</td>\n",
       "    </tr>\n",
       "    <tr>\n",
       "      <th>6.9750</th>\n",
       "      <td>2</td>\n",
       "      <td>0</td>\n",
       "    </tr>\n",
       "    <tr>\n",
       "      <th>7.0458</th>\n",
       "      <td>1</td>\n",
       "      <td>0</td>\n",
       "    </tr>\n",
       "    <tr>\n",
       "      <th>7.0500</th>\n",
       "      <td>5</td>\n",
       "      <td>2</td>\n",
       "    </tr>\n",
       "    <tr>\n",
       "      <th>7.0542</th>\n",
       "      <td>1</td>\n",
       "      <td>1</td>\n",
       "    </tr>\n",
       "    <tr>\n",
       "      <th>7.1250</th>\n",
       "      <td>2</td>\n",
       "      <td>2</td>\n",
       "    </tr>\n",
       "    <tr>\n",
       "      <th>7.1417</th>\n",
       "      <td>0</td>\n",
       "      <td>1</td>\n",
       "    </tr>\n",
       "    <tr>\n",
       "      <th>7.2250</th>\n",
       "      <td>7</td>\n",
       "      <td>5</td>\n",
       "    </tr>\n",
       "    <tr>\n",
       "      <th>7.2292</th>\n",
       "      <td>8</td>\n",
       "      <td>7</td>\n",
       "    </tr>\n",
       "    <tr>\n",
       "      <th>7.2500</th>\n",
       "      <td>9</td>\n",
       "      <td>4</td>\n",
       "    </tr>\n",
       "    <tr>\n",
       "      <th>7.3125</th>\n",
       "      <td>1</td>\n",
       "      <td>0</td>\n",
       "    </tr>\n",
       "    <tr>\n",
       "      <th>7.4958</th>\n",
       "      <td>2</td>\n",
       "      <td>1</td>\n",
       "    </tr>\n",
       "    <tr>\n",
       "      <th>7.5208</th>\n",
       "      <td>0</td>\n",
       "      <td>1</td>\n",
       "    </tr>\n",
       "    <tr>\n",
       "      <th>7.5500</th>\n",
       "      <td>3</td>\n",
       "      <td>1</td>\n",
       "    </tr>\n",
       "    <tr>\n",
       "      <th>7.6292</th>\n",
       "      <td>1</td>\n",
       "      <td>0</td>\n",
       "    </tr>\n",
       "    <tr>\n",
       "      <th>7.6500</th>\n",
       "      <td>1</td>\n",
       "      <td>3</td>\n",
       "    </tr>\n",
       "    <tr>\n",
       "      <th>7.7250</th>\n",
       "      <td>0</td>\n",
       "      <td>1</td>\n",
       "    </tr>\n",
       "    <tr>\n",
       "      <th>7.7292</th>\n",
       "      <td>0</td>\n",
       "      <td>1</td>\n",
       "    </tr>\n",
       "    <tr>\n",
       "      <th>7.7333</th>\n",
       "      <td>3</td>\n",
       "      <td>1</td>\n",
       "    </tr>\n",
       "    <tr>\n",
       "      <th>7.7375</th>\n",
       "      <td>1</td>\n",
       "      <td>1</td>\n",
       "    </tr>\n",
       "    <tr>\n",
       "      <th>7.7417</th>\n",
       "      <td>1</td>\n",
       "      <td>0</td>\n",
       "    </tr>\n",
       "    <tr>\n",
       "      <th>...</th>\n",
       "      <td>...</td>\n",
       "      <td>...</td>\n",
       "    </tr>\n",
       "    <tr>\n",
       "      <th>80.0000</th>\n",
       "      <td>1</td>\n",
       "      <td>1</td>\n",
       "    </tr>\n",
       "    <tr>\n",
       "      <th>81.8583</th>\n",
       "      <td>0</td>\n",
       "      <td>1</td>\n",
       "    </tr>\n",
       "    <tr>\n",
       "      <th>82.1708</th>\n",
       "      <td>1</td>\n",
       "      <td>1</td>\n",
       "    </tr>\n",
       "    <tr>\n",
       "      <th>83.1583</th>\n",
       "      <td>1</td>\n",
       "      <td>2</td>\n",
       "    </tr>\n",
       "    <tr>\n",
       "      <th>83.4750</th>\n",
       "      <td>2</td>\n",
       "      <td>0</td>\n",
       "    </tr>\n",
       "    <tr>\n",
       "      <th>86.5000</th>\n",
       "      <td>2</td>\n",
       "      <td>1</td>\n",
       "    </tr>\n",
       "    <tr>\n",
       "      <th>89.1042</th>\n",
       "      <td>2</td>\n",
       "      <td>0</td>\n",
       "    </tr>\n",
       "    <tr>\n",
       "      <th>90.0000</th>\n",
       "      <td>4</td>\n",
       "      <td>0</td>\n",
       "    </tr>\n",
       "    <tr>\n",
       "      <th>91.0792</th>\n",
       "      <td>2</td>\n",
       "      <td>0</td>\n",
       "    </tr>\n",
       "    <tr>\n",
       "      <th>93.5000</th>\n",
       "      <td>1</td>\n",
       "      <td>1</td>\n",
       "    </tr>\n",
       "    <tr>\n",
       "      <th>106.4250</th>\n",
       "      <td>2</td>\n",
       "      <td>0</td>\n",
       "    </tr>\n",
       "    <tr>\n",
       "      <th>108.9000</th>\n",
       "      <td>1</td>\n",
       "      <td>1</td>\n",
       "    </tr>\n",
       "    <tr>\n",
       "      <th>110.8833</th>\n",
       "      <td>3</td>\n",
       "      <td>1</td>\n",
       "    </tr>\n",
       "    <tr>\n",
       "      <th>113.2750</th>\n",
       "      <td>0</td>\n",
       "      <td>3</td>\n",
       "    </tr>\n",
       "    <tr>\n",
       "      <th>120.0000</th>\n",
       "      <td>2</td>\n",
       "      <td>2</td>\n",
       "    </tr>\n",
       "    <tr>\n",
       "      <th>133.6500</th>\n",
       "      <td>2</td>\n",
       "      <td>0</td>\n",
       "    </tr>\n",
       "    <tr>\n",
       "      <th>134.5000</th>\n",
       "      <td>1</td>\n",
       "      <td>1</td>\n",
       "    </tr>\n",
       "    <tr>\n",
       "      <th>135.6333</th>\n",
       "      <td>3</td>\n",
       "      <td>0</td>\n",
       "    </tr>\n",
       "    <tr>\n",
       "      <th>146.5208</th>\n",
       "      <td>1</td>\n",
       "      <td>1</td>\n",
       "    </tr>\n",
       "    <tr>\n",
       "      <th>151.5500</th>\n",
       "      <td>1</td>\n",
       "      <td>3</td>\n",
       "    </tr>\n",
       "    <tr>\n",
       "      <th>153.4625</th>\n",
       "      <td>2</td>\n",
       "      <td>1</td>\n",
       "    </tr>\n",
       "    <tr>\n",
       "      <th>164.8667</th>\n",
       "      <td>0</td>\n",
       "      <td>2</td>\n",
       "    </tr>\n",
       "    <tr>\n",
       "      <th>211.3375</th>\n",
       "      <td>1</td>\n",
       "      <td>2</td>\n",
       "    </tr>\n",
       "    <tr>\n",
       "      <th>211.5000</th>\n",
       "      <td>1</td>\n",
       "      <td>0</td>\n",
       "    </tr>\n",
       "    <tr>\n",
       "      <th>221.7792</th>\n",
       "      <td>1</td>\n",
       "      <td>0</td>\n",
       "    </tr>\n",
       "    <tr>\n",
       "      <th>227.5250</th>\n",
       "      <td>0</td>\n",
       "      <td>4</td>\n",
       "    </tr>\n",
       "    <tr>\n",
       "      <th>247.5208</th>\n",
       "      <td>1</td>\n",
       "      <td>1</td>\n",
       "    </tr>\n",
       "    <tr>\n",
       "      <th>262.3750</th>\n",
       "      <td>2</td>\n",
       "      <td>0</td>\n",
       "    </tr>\n",
       "    <tr>\n",
       "      <th>263.0000</th>\n",
       "      <td>3</td>\n",
       "      <td>1</td>\n",
       "    </tr>\n",
       "    <tr>\n",
       "      <th>512.3292</th>\n",
       "      <td>2</td>\n",
       "      <td>1</td>\n",
       "    </tr>\n",
       "  </tbody>\n",
       "</table>\n",
       "<p>248 rows × 2 columns</p>\n",
       "</div>"
      ],
      "text/plain": [
       "Survived  0.0  1.0\n",
       "Fare              \n",
       "0.0000     11    4\n",
       "4.0125      1    0\n",
       "5.0000      1    0\n",
       "6.2375      0    1\n",
       "6.4375      1    0\n",
       "6.4500      1    0\n",
       "6.4958      2    0\n",
       "6.7500      2    0\n",
       "6.8583      0    1\n",
       "6.9500      1    0\n",
       "6.9750      2    0\n",
       "7.0458      1    0\n",
       "7.0500      5    2\n",
       "7.0542      1    1\n",
       "7.1250      2    2\n",
       "7.1417      0    1\n",
       "7.2250      7    5\n",
       "7.2292      8    7\n",
       "7.2500      9    4\n",
       "7.3125      1    0\n",
       "7.4958      2    1\n",
       "7.5208      0    1\n",
       "7.5500      3    1\n",
       "7.6292      1    0\n",
       "7.6500      1    3\n",
       "7.7250      0    1\n",
       "7.7292      0    1\n",
       "7.7333      3    1\n",
       "7.7375      1    1\n",
       "7.7417      1    0\n",
       "...       ...  ...\n",
       "80.0000     1    1\n",
       "81.8583     0    1\n",
       "82.1708     1    1\n",
       "83.1583     1    2\n",
       "83.4750     2    0\n",
       "86.5000     2    1\n",
       "89.1042     2    0\n",
       "90.0000     4    0\n",
       "91.0792     2    0\n",
       "93.5000     1    1\n",
       "106.4250    2    0\n",
       "108.9000    1    1\n",
       "110.8833    3    1\n",
       "113.2750    0    3\n",
       "120.0000    2    2\n",
       "133.6500    2    0\n",
       "134.5000    1    1\n",
       "135.6333    3    0\n",
       "146.5208    1    1\n",
       "151.5500    1    3\n",
       "153.4625    2    1\n",
       "164.8667    0    2\n",
       "211.3375    1    2\n",
       "211.5000    1    0\n",
       "221.7792    1    0\n",
       "227.5250    0    4\n",
       "247.5208    1    1\n",
       "262.3750    2    0\n",
       "263.0000    3    1\n",
       "512.3292    2    1\n",
       "\n",
       "[248 rows x 2 columns]"
      ]
     },
     "execution_count": 30,
     "metadata": {},
     "output_type": "execute_result"
    }
   ],
   "source": [
    "pd.crosstab(titanic_df[\"Fare\"], titanic_df[\"Survived\"])"
   ]
  },
  {
   "cell_type": "code",
   "execution_count": 23,
   "metadata": {},
   "outputs": [
    {
     "data": {
      "text/html": [
       "<div>\n",
       "<style>\n",
       "    .dataframe thead tr:only-child th {\n",
       "        text-align: right;\n",
       "    }\n",
       "\n",
       "    .dataframe thead th {\n",
       "        text-align: left;\n",
       "    }\n",
       "\n",
       "    .dataframe tbody tr th {\n",
       "        vertical-align: top;\n",
       "    }\n",
       "</style>\n",
       "<table border=\"1\" class=\"dataframe\">\n",
       "  <thead>\n",
       "    <tr style=\"text-align: right;\">\n",
       "      <th>Age</th>\n",
       "      <th>0.42</th>\n",
       "      <th>0.67</th>\n",
       "      <th>0.75</th>\n",
       "      <th>0.83</th>\n",
       "      <th>0.92</th>\n",
       "      <th>1.0</th>\n",
       "      <th>2.0</th>\n",
       "      <th>3.0</th>\n",
       "      <th>4.0</th>\n",
       "      <th>5.0</th>\n",
       "      <th>...</th>\n",
       "      <th>62.0</th>\n",
       "      <th>63.0</th>\n",
       "      <th>64.0</th>\n",
       "      <th>65.0</th>\n",
       "      <th>66.0</th>\n",
       "      <th>70.0</th>\n",
       "      <th>70.5</th>\n",
       "      <th>71.0</th>\n",
       "      <th>74.0</th>\n",
       "      <th>80.0</th>\n",
       "    </tr>\n",
       "    <tr>\n",
       "      <th>Survived</th>\n",
       "      <th></th>\n",
       "      <th></th>\n",
       "      <th></th>\n",
       "      <th></th>\n",
       "      <th></th>\n",
       "      <th></th>\n",
       "      <th></th>\n",
       "      <th></th>\n",
       "      <th></th>\n",
       "      <th></th>\n",
       "      <th></th>\n",
       "      <th></th>\n",
       "      <th></th>\n",
       "      <th></th>\n",
       "      <th></th>\n",
       "      <th></th>\n",
       "      <th></th>\n",
       "      <th></th>\n",
       "      <th></th>\n",
       "      <th></th>\n",
       "      <th></th>\n",
       "    </tr>\n",
       "  </thead>\n",
       "  <tbody>\n",
       "    <tr>\n",
       "      <th>0.0</th>\n",
       "      <td>0.000000</td>\n",
       "      <td>0.001403</td>\n",
       "      <td>0.001403</td>\n",
       "      <td>0.001403</td>\n",
       "      <td>0.000000</td>\n",
       "      <td>0.004208</td>\n",
       "      <td>0.007013</td>\n",
       "      <td>0.004208</td>\n",
       "      <td>0.007013</td>\n",
       "      <td>0.004208</td>\n",
       "      <td>...</td>\n",
       "      <td>0.001403</td>\n",
       "      <td>0.001403</td>\n",
       "      <td>0.001403</td>\n",
       "      <td>0.001403</td>\n",
       "      <td>0.001403</td>\n",
       "      <td>0.001403</td>\n",
       "      <td>0.001403</td>\n",
       "      <td>0.001403</td>\n",
       "      <td>0.001403</td>\n",
       "      <td>0.001403</td>\n",
       "    </tr>\n",
       "    <tr>\n",
       "      <th>1.0</th>\n",
       "      <td>0.001403</td>\n",
       "      <td>0.000000</td>\n",
       "      <td>0.001403</td>\n",
       "      <td>0.001403</td>\n",
       "      <td>0.001403</td>\n",
       "      <td>0.005610</td>\n",
       "      <td>0.007013</td>\n",
       "      <td>0.004208</td>\n",
       "      <td>0.007013</td>\n",
       "      <td>0.001403</td>\n",
       "      <td>...</td>\n",
       "      <td>0.004208</td>\n",
       "      <td>0.001403</td>\n",
       "      <td>0.001403</td>\n",
       "      <td>0.002805</td>\n",
       "      <td>0.000000</td>\n",
       "      <td>0.001403</td>\n",
       "      <td>0.000000</td>\n",
       "      <td>0.001403</td>\n",
       "      <td>0.000000</td>\n",
       "      <td>0.000000</td>\n",
       "    </tr>\n",
       "  </tbody>\n",
       "</table>\n",
       "<p>2 rows × 88 columns</p>\n",
       "</div>"
      ],
      "text/plain": [
       "Age          0.42      0.67      0.75      0.83      0.92      1.00   \\\n",
       "Survived                                                               \n",
       "0.0       0.000000  0.001403  0.001403  0.001403  0.000000  0.004208   \n",
       "1.0       0.001403  0.000000  0.001403  0.001403  0.001403  0.005610   \n",
       "\n",
       "Age          2.00      3.00      4.00      5.00     ...        62.00  \\\n",
       "Survived                                            ...                \n",
       "0.0       0.007013  0.004208  0.007013  0.004208    ...     0.001403   \n",
       "1.0       0.007013  0.004208  0.007013  0.001403    ...     0.004208   \n",
       "\n",
       "Age          63.00     64.00     65.00     66.00     70.00     70.50  \\\n",
       "Survived                                                               \n",
       "0.0       0.001403  0.001403  0.001403  0.001403  0.001403  0.001403   \n",
       "1.0       0.001403  0.001403  0.002805  0.000000  0.001403  0.000000   \n",
       "\n",
       "Age          71.00     74.00     80.00  \n",
       "Survived                                \n",
       "0.0       0.001403  0.001403  0.001403  \n",
       "1.0       0.001403  0.000000  0.000000  \n",
       "\n",
       "[2 rows x 88 columns]"
      ]
     },
     "execution_count": 23,
     "metadata": {},
     "output_type": "execute_result"
    }
   ],
   "source": [
    "# titanic_df.groupby([\"Survived\", \"Age\"]).agg(np.count_nonzero)\n",
    "pd.crosstab(titanic_df[\"Survived\"], titanic_df[\"Age\"], normalize=True)"
   ]
  },
  {
   "cell_type": "markdown",
   "metadata": {},
   "source": [
    "**3. (1 балл)** Сгруппируйте записи по классам пассажиров, в каждой группе посчитайте средний возраст. Верно ли, что во всех классах эта величина примерно одинакова?"
   ]
  },
  {
   "cell_type": "code",
   "execution_count": 27,
   "metadata": {
    "collapsed": true
   },
   "outputs": [
    {
     "data": {
      "text/plain": [
       "Pclass\n",
       "1.0    38.233441\n",
       "2.0    29.877630\n",
       "3.0    25.140620\n",
       "Name: Age, dtype: float64"
      ]
     },
     "execution_count": 27,
     "metadata": {},
     "output_type": "execute_result"
    }
   ],
   "source": [
    "titanic_df.groupby([\"Pclass\"])[\"Age\"].mean()"
   ]
  },
  {
   "cell_type": "markdown",
   "metadata": {},
   "source": [
    "Нет, это не совсем верно: более или менее близки по возрасту пассажиры 2 и 3 классов, а пассажиры 1 класса старше на ±10 лет."
   ]
  },
  {
   "cell_type": "markdown",
   "metadata": {},
   "source": [
    "### 3. (10 баллов) Scikit-learn and Logistic Regression\n",
    "![](https://i.ytimg.com/vi/1nWFHa6K23w/maxresdefault.jpg)\n",
    "<!-- .element height=\"10%\" width=\"10%\" -->\n",
    "\n",
    "Задача: по 38 признакам, связанных с заявкой на грант (область исследований учёных, информация по их академическому бэкграунду, размер гранта, область, в которой он выдаётся) предсказать, будет ли заявка принята. Датасет включает в себя информацию по 10884 заявкам на гранты, которые были поданы в университете Мельбурна в период с 2004 по 2008 год.\n",
    "\n",
    "Полную версию данных с большим количеством признаков можно найти на официальной [странице соревнования](https://www.kaggle.com/c/unimelb)."
   ]
  },
  {
   "cell_type": "code",
   "execution_count": 18,
   "metadata": {
    "collapsed": true
   },
   "outputs": [],
   "source": [
    "from sklearn.preprocessing import StandardScaler, OneHotEncoder, LabelEncoder\n",
    "from sklearn.model_selection import train_test_split\n",
    "from sklearn.linear_model import LogisticRegressionCV\n",
    "from sklearn.feature_extraction import DictVectorizer"
   ]
  },
  {
   "cell_type": "markdown",
   "metadata": {},
   "source": [
    "**1. (1 балл)** Разделите данные на датафрейм объект-признак и целевую переменную. Разделите датафрейм объект-признак на два датафрейма, состоящих только из вещественных и категориальных признаков соответсвенно. У вас должны получиться следующие датафреймы: X_cat, X_real, y. Также проверьте, есть ли в данных пропуски? К чему приведет удаление всех пропущенных данных?"
   ]
  },
  {
   "cell_type": "code",
   "execution_count": 74,
   "metadata": {
    "scrolled": true
   },
   "outputs": [
    {
     "data": {
      "text/html": [
       "<div>\n",
       "<style>\n",
       "    .dataframe thead tr:only-child th {\n",
       "        text-align: right;\n",
       "    }\n",
       "\n",
       "    .dataframe thead th {\n",
       "        text-align: left;\n",
       "    }\n",
       "\n",
       "    .dataframe tbody tr th {\n",
       "        vertical-align: top;\n",
       "    }\n",
       "</style>\n",
       "<table border=\"1\" class=\"dataframe\">\n",
       "  <thead>\n",
       "    <tr style=\"text-align: right;\">\n",
       "      <th></th>\n",
       "      <th>Grant.Status</th>\n",
       "      <th>Sponsor.Code</th>\n",
       "      <th>Grant.Category.Code</th>\n",
       "      <th>Contract.Value.Band...see.note.A</th>\n",
       "      <th>RFCD.Code.1</th>\n",
       "      <th>RFCD.Percentage.1</th>\n",
       "      <th>RFCD.Code.2</th>\n",
       "      <th>RFCD.Percentage.2</th>\n",
       "      <th>RFCD.Code.3</th>\n",
       "      <th>RFCD.Percentage.3</th>\n",
       "      <th>...</th>\n",
       "      <th>Dept.No..1</th>\n",
       "      <th>Faculty.No..1</th>\n",
       "      <th>With.PHD.1</th>\n",
       "      <th>No..of.Years.in.Uni.at.Time.of.Grant.1</th>\n",
       "      <th>Number.of.Successful.Grant.1</th>\n",
       "      <th>Number.of.Unsuccessful.Grant.1</th>\n",
       "      <th>A..1</th>\n",
       "      <th>A.1</th>\n",
       "      <th>B.1</th>\n",
       "      <th>C.1</th>\n",
       "    </tr>\n",
       "  </thead>\n",
       "  <tbody>\n",
       "    <tr>\n",
       "      <th>0</th>\n",
       "      <td>1.0</td>\n",
       "      <td>NaN</td>\n",
       "      <td>NaN</td>\n",
       "      <td>A</td>\n",
       "      <td>280199.0</td>\n",
       "      <td>100.0</td>\n",
       "      <td>0.0</td>\n",
       "      <td>0.0</td>\n",
       "      <td>0.0</td>\n",
       "      <td>0.0</td>\n",
       "      <td>...</td>\n",
       "      <td>3073.0</td>\n",
       "      <td>31.0</td>\n",
       "      <td>NaN</td>\n",
       "      <td>Less than 0</td>\n",
       "      <td>0.0</td>\n",
       "      <td>0.0</td>\n",
       "      <td>4.0</td>\n",
       "      <td>2.0</td>\n",
       "      <td>0.0</td>\n",
       "      <td>0.0</td>\n",
       "    </tr>\n",
       "    <tr>\n",
       "      <th>1</th>\n",
       "      <td>1.0</td>\n",
       "      <td>2B</td>\n",
       "      <td>10A</td>\n",
       "      <td>B</td>\n",
       "      <td>280103.0</td>\n",
       "      <td>30.0</td>\n",
       "      <td>280106.0</td>\n",
       "      <td>30.0</td>\n",
       "      <td>280203.0</td>\n",
       "      <td>40.0</td>\n",
       "      <td>...</td>\n",
       "      <td>2538.0</td>\n",
       "      <td>25.0</td>\n",
       "      <td>Yes</td>\n",
       "      <td>more than 15</td>\n",
       "      <td>0.0</td>\n",
       "      <td>0.0</td>\n",
       "      <td>6.0</td>\n",
       "      <td>12.0</td>\n",
       "      <td>2.0</td>\n",
       "      <td>2.0</td>\n",
       "    </tr>\n",
       "    <tr>\n",
       "      <th>2</th>\n",
       "      <td>1.0</td>\n",
       "      <td>29A</td>\n",
       "      <td>10B</td>\n",
       "      <td>A</td>\n",
       "      <td>321004.0</td>\n",
       "      <td>60.0</td>\n",
       "      <td>321216.0</td>\n",
       "      <td>40.0</td>\n",
       "      <td>0.0</td>\n",
       "      <td>0.0</td>\n",
       "      <td>...</td>\n",
       "      <td>2923.0</td>\n",
       "      <td>25.0</td>\n",
       "      <td>Yes</td>\n",
       "      <td>&gt;5 to 10</td>\n",
       "      <td>0.0</td>\n",
       "      <td>0.0</td>\n",
       "      <td>0.0</td>\n",
       "      <td>3.0</td>\n",
       "      <td>5.0</td>\n",
       "      <td>2.0</td>\n",
       "    </tr>\n",
       "    <tr>\n",
       "      <th>3</th>\n",
       "      <td>1.0</td>\n",
       "      <td>40D</td>\n",
       "      <td>10B</td>\n",
       "      <td>C</td>\n",
       "      <td>270602.0</td>\n",
       "      <td>50.0</td>\n",
       "      <td>320602.0</td>\n",
       "      <td>50.0</td>\n",
       "      <td>0.0</td>\n",
       "      <td>0.0</td>\n",
       "      <td>...</td>\n",
       "      <td>2678.0</td>\n",
       "      <td>25.0</td>\n",
       "      <td>Yes</td>\n",
       "      <td>&gt;5 to 10</td>\n",
       "      <td>0.0</td>\n",
       "      <td>0.0</td>\n",
       "      <td>0.0</td>\n",
       "      <td>3.0</td>\n",
       "      <td>13.0</td>\n",
       "      <td>3.0</td>\n",
       "    </tr>\n",
       "    <tr>\n",
       "      <th>4</th>\n",
       "      <td>0.0</td>\n",
       "      <td>59C</td>\n",
       "      <td>10A</td>\n",
       "      <td>A</td>\n",
       "      <td>260500.0</td>\n",
       "      <td>34.0</td>\n",
       "      <td>280000.0</td>\n",
       "      <td>33.0</td>\n",
       "      <td>290000.0</td>\n",
       "      <td>33.0</td>\n",
       "      <td>...</td>\n",
       "      <td>2153.0</td>\n",
       "      <td>19.0</td>\n",
       "      <td>Yes</td>\n",
       "      <td>&gt;5 to 10</td>\n",
       "      <td>0.0</td>\n",
       "      <td>0.0</td>\n",
       "      <td>3.0</td>\n",
       "      <td>0.0</td>\n",
       "      <td>1.0</td>\n",
       "      <td>0.0</td>\n",
       "    </tr>\n",
       "  </tbody>\n",
       "</table>\n",
       "<p>5 rows × 39 columns</p>\n",
       "</div>"
      ],
      "text/plain": [
       "   Grant.Status Sponsor.Code Grant.Category.Code  \\\n",
       "0           1.0          NaN                 NaN   \n",
       "1           1.0           2B                 10A   \n",
       "2           1.0          29A                 10B   \n",
       "3           1.0          40D                 10B   \n",
       "4           0.0          59C                 10A   \n",
       "\n",
       "  Contract.Value.Band...see.note.A  RFCD.Code.1  RFCD.Percentage.1  \\\n",
       "0                               A      280199.0              100.0   \n",
       "1                               B      280103.0               30.0   \n",
       "2                               A      321004.0               60.0   \n",
       "3                               C      270602.0               50.0   \n",
       "4                               A      260500.0               34.0   \n",
       "\n",
       "   RFCD.Code.2  RFCD.Percentage.2  RFCD.Code.3  RFCD.Percentage.3 ...   \\\n",
       "0          0.0                0.0          0.0                0.0 ...    \n",
       "1     280106.0               30.0     280203.0               40.0 ...    \n",
       "2     321216.0               40.0          0.0                0.0 ...    \n",
       "3     320602.0               50.0          0.0                0.0 ...    \n",
       "4     280000.0               33.0     290000.0               33.0 ...    \n",
       "\n",
       "   Dept.No..1  Faculty.No..1  With.PHD.1  \\\n",
       "0      3073.0           31.0         NaN   \n",
       "1      2538.0           25.0        Yes    \n",
       "2      2923.0           25.0        Yes    \n",
       "3      2678.0           25.0        Yes    \n",
       "4      2153.0           19.0        Yes    \n",
       "\n",
       "   No..of.Years.in.Uni.at.Time.of.Grant.1  Number.of.Successful.Grant.1  \\\n",
       "0                             Less than 0                           0.0   \n",
       "1                            more than 15                           0.0   \n",
       "2                                >5 to 10                           0.0   \n",
       "3                                >5 to 10                           0.0   \n",
       "4                                >5 to 10                           0.0   \n",
       "\n",
       "   Number.of.Unsuccessful.Grant.1  A..1   A.1   B.1  C.1  \n",
       "0                             0.0   4.0   2.0   0.0  0.0  \n",
       "1                             0.0   6.0  12.0   2.0  2.0  \n",
       "2                             0.0   0.0   3.0   5.0  2.0  \n",
       "3                             0.0   0.0   3.0  13.0  3.0  \n",
       "4                             0.0   3.0   0.0   1.0  0.0  \n",
       "\n",
       "[5 rows x 39 columns]"
      ]
     },
     "execution_count": 74,
     "metadata": {},
     "output_type": "execute_result"
    }
   ],
   "source": [
    "unimelb_data = pd.read_csv('unimelb_data.csv')\n",
    "unimelb_data = unimelb_data[unimelb_data[\"Grant.Status\"] != np.nan]\n",
    "unimelb_data.head()"
   ]
  },
  {
   "cell_type": "code",
   "execution_count": 75,
   "metadata": {},
   "outputs": [],
   "source": [
    "X = unimelb_data.drop('Grant.Status', 1)\n",
    "y = unimelb_data['Grant.Status']"
   ]
  },
  {
   "cell_type": "code",
   "execution_count": 76,
   "metadata": {
    "collapsed": true
   },
   "outputs": [],
   "source": [
    "numeric_cols = ['RFCD.Percentage.1', 'RFCD.Percentage.2', 'RFCD.Percentage.3', \n",
    "                'RFCD.Percentage.4', 'RFCD.Percentage.5',\n",
    "                'SEO.Percentage.1', 'SEO.Percentage.2', 'SEO.Percentage.3',\n",
    "                'SEO.Percentage.4', 'SEO.Percentage.5',\n",
    "                'Year.of.Birth.1', 'Number.of.Successful.Grant.1', 'Number.of.Unsuccessful.Grant.1']\n",
    "categorical_cols = list(set(X.columns.values.tolist()) - set(numeric_cols))"
   ]
  },
  {
   "cell_type": "markdown",
   "metadata": {},
   "source": [
    "__Проверка на пропуски__\n",
    "\n",
    "Хотя вообще уже из ```head()``` видно, что они там есть…"
   ]
  },
  {
   "cell_type": "code",
   "execution_count": 77,
   "metadata": {},
   "outputs": [
    {
     "data": {
      "text/plain": [
       "True"
      ]
     },
     "execution_count": 77,
     "metadata": {},
     "output_type": "execute_result"
    }
   ],
   "source": [
    "unimelb_data.isnull().values.any()"
   ]
  },
  {
   "cell_type": "code",
   "execution_count": 78,
   "metadata": {},
   "outputs": [
    {
     "name": "stdout",
     "output_type": "stream",
     "text": [
      "Если удалить все объекты с na, то из 10884 объектов останется 320.\n"
     ]
    }
   ],
   "source": [
    "print(\"Если удалить все объекты с na, то из {} объектов останется {}.\".format(len(unimelb_data), len(unimelb_data.dropna())))"
   ]
  },
  {
   "cell_type": "markdown",
   "metadata": {},
   "source": [
    "__Разбиваем на разные датафреймы__"
   ]
  },
  {
   "cell_type": "code",
   "execution_count": 79,
   "metadata": {
    "collapsed": true
   },
   "outputs": [],
   "source": [
    "X_cat = unimelb_data[categorical_cols]\n",
    "X_real = unimelb_data[numeric_cols]\n",
    "y = unimelb_data[\"Grant.Status\"]"
   ]
  },
  {
   "cell_type": "markdown",
   "metadata": {},
   "source": [
    "**2. (1 балл)** Заполните пропущенные вещественные значения в X_real нулями и средними по каждому из признаков (столбцу). Проведите масштабирование данных, используя класс [*sklearn.preprocessing.StandardScaler*](http://scikit-learn.org/stable/modules/generated/sklearn.preprocessing.StandardScaler.html). Полученные датафреймы назовите X_real_zeros, X_real_means. Преобразуйте все категориальные признаки к строковому формату данных, замените все пропуски np.nan на 'NAN'. К полученному датафрейму примените технику one-hot encoding, изпользуя [*sklearn.feature_extraction.DictVectorizer*](http://scikit-learn.org/stable/modules/generated/sklearn.feature_extraction.DictVectorizer.html) и/или [*sklearn.preprocessing.OneHotEncoder*](http://scikit-learn.org/stable/modules/generated/sklearn.preprocessing.OneHotEncoder.html). Полученный датафрейм назовите X_cat_oh. Объедините данные вместе в один датафрейм: X_real_zeros с X_cat_oh и X_real_means c X_cat_oh, полученные датафремы назовите X_full_zeros и X_full_means соответственно."
   ]
  },
  {
   "cell_type": "code",
   "execution_count": 81,
   "metadata": {
    "collapsed": true
   },
   "outputs": [],
   "source": [
    "X_real_zeros = X_real.fillna(0)\n",
    "X_real_means = X_real.fillna(X_real.mean())"
   ]
  },
  {
   "cell_type": "code",
   "execution_count": 82,
   "metadata": {},
   "outputs": [],
   "source": [
    "X_cat = X_cat.applymap(str)\n",
    "X_cat = X_cat.fillna(\"NAN\")\n",
    "\n",
    "le = LabelEncoder()\n",
    "X_cat_oh = X_cat\n",
    "for row in X_cat_oh:\n",
    "    le.fit(X_cat[row].unique())\n",
    "    X_cat_oh[row] = le.transform(X_cat_oh[row])"
   ]
  },
  {
   "cell_type": "code",
   "execution_count": 83,
   "metadata": {},
   "outputs": [],
   "source": [
    "X_full_zeros = X_real_zeros.join(X_cat_oh)\n",
    "X_full_means = X_real_means.join(X_cat_oh)"
   ]
  },
  {
   "cell_type": "markdown",
   "metadata": {},
   "source": [
    "**3. (1 балл)** Разделите данные на обучующуюся и тестовую выборки как для X_full_zeros, так и для X_full_means. Используйте *sklearn.model_selection.train_test_split* c параметрами test_size=0.3, random_state=0. Полученные данные назовите при помощи добавления префикса train и test соответственно."
   ]
  },
  {
   "cell_type": "code",
   "execution_count": 84,
   "metadata": {},
   "outputs": [],
   "source": [
    "X_zeros = X_full_zeros.as_matrix()\n",
    "X_means = X_full_means.as_matrix()\n",
    "y = y.as_matrix()\n",
    "# X_train, X_test, y_train, y_test\n",
    "X_zeros_train, X_zeros_test, y_zeros_train, y_zeros_test = train_test_split(X_zeros, y, test_size=0.3, random_state=0)\n",
    "X_means_train, X_means_test, y_means_train, y_means_test = train_test_split(X_means, y, test_size=0.3, random_state=0)"
   ]
  },
  {
   "cell_type": "markdown",
   "metadata": {},
   "source": [
    "**4. (2 балла)** Обучите логистическую регрессию c l2-регуляризацией на данных полученных в предыдущем задании. Используйте класс *[sklearn.linear_model.LogisticRegressionCV](http://scikit-learn.org/stable/modules/generated/sklearn.linear_model.LogisticRegressionCV.html)*, в конструктор передайте параметры Cs=[0.01, 0.05, 0.1, 0.5, 1, 5, 10], cv=3, penalty='l2', scoring='roc-auc'. Ответьте на вопросы. На каких данных (где вещественные пропуски заполнены нулями или средними) метрика roc-auc выше? Как выглядит roc-кривая для лучшей модели (используйте функцию [*sklearn.metrics.roc_curve*](http://scikit-learn.org/stable/modules/generated/sklearn.metrics.roc_curve.html))? Какова площадь под roc-кривой для лучшей модели? Какая при этом accuracy?"
   ]
  },
  {
   "cell_type": "code",
   "execution_count": 85,
   "metadata": {
    "collapsed": true
   },
   "outputs": [],
   "source": [
    "logreg_zeros = LogisticRegressionCV(Cs=[0.01, 0.05, 0.1, 0.5, 1, 5, 10], cv=3, penalty='l2', scoring='roc_auc')\n",
    "logreg_means = LogisticRegressionCV(Cs=[0.01, 0.05, 0.1, 0.5, 1, 5, 10], cv=3, penalty='l2', scoring='roc_auc')"
   ]
  },
  {
   "cell_type": "code",
   "execution_count": 87,
   "metadata": {},
   "outputs": [
    {
     "ename": "ValueError",
     "evalue": "Input contains NaN, infinity or a value too large for dtype('float64').",
     "output_type": "error",
     "traceback": [
      "\u001b[0;31m---------------------------------------------------------------------------\u001b[0m",
      "\u001b[0;31mValueError\u001b[0m                                Traceback (most recent call last)",
      "\u001b[0;32m<ipython-input-87-02d9e2f32c6d>\u001b[0m in \u001b[0;36m<module>\u001b[0;34m()\u001b[0m\n\u001b[0;32m----> 1\u001b[0;31m \u001b[0mlogreg_zeros\u001b[0m\u001b[0;34m.\u001b[0m\u001b[0mfit\u001b[0m\u001b[0;34m(\u001b[0m\u001b[0mX_zeros_train\u001b[0m\u001b[0;34m,\u001b[0m \u001b[0my_zeros_train\u001b[0m\u001b[0;34m)\u001b[0m\u001b[0;34m\u001b[0m\u001b[0m\n\u001b[0m",
      "\u001b[0;32m~/anaconda/lib/python3.6/site-packages/sklearn/linear_model/logistic.py\u001b[0m in \u001b[0;36mfit\u001b[0;34m(self, X, y, sample_weight)\u001b[0m\n\u001b[1;32m   1609\u001b[0m \u001b[0;34m\u001b[0m\u001b[0m\n\u001b[1;32m   1610\u001b[0m         X, y = check_X_y(X, y, accept_sparse='csr', dtype=np.float64,\n\u001b[0;32m-> 1611\u001b[0;31m                          order=\"C\")\n\u001b[0m\u001b[1;32m   1612\u001b[0m         \u001b[0mcheck_classification_targets\u001b[0m\u001b[0;34m(\u001b[0m\u001b[0my\u001b[0m\u001b[0;34m)\u001b[0m\u001b[0;34m\u001b[0m\u001b[0m\n\u001b[1;32m   1613\u001b[0m \u001b[0;34m\u001b[0m\u001b[0m\n",
      "\u001b[0;32m~/anaconda/lib/python3.6/site-packages/sklearn/utils/validation.py\u001b[0m in \u001b[0;36mcheck_X_y\u001b[0;34m(X, y, accept_sparse, dtype, order, copy, force_all_finite, ensure_2d, allow_nd, multi_output, ensure_min_samples, ensure_min_features, y_numeric, warn_on_dtype, estimator)\u001b[0m\n\u001b[1;32m    546\u001b[0m     \u001b[0;32melse\u001b[0m\u001b[0;34m:\u001b[0m\u001b[0;34m\u001b[0m\u001b[0m\n\u001b[1;32m    547\u001b[0m         \u001b[0my\u001b[0m \u001b[0;34m=\u001b[0m \u001b[0mcolumn_or_1d\u001b[0m\u001b[0;34m(\u001b[0m\u001b[0my\u001b[0m\u001b[0;34m,\u001b[0m \u001b[0mwarn\u001b[0m\u001b[0;34m=\u001b[0m\u001b[0;32mTrue\u001b[0m\u001b[0;34m)\u001b[0m\u001b[0;34m\u001b[0m\u001b[0m\n\u001b[0;32m--> 548\u001b[0;31m         \u001b[0m_assert_all_finite\u001b[0m\u001b[0;34m(\u001b[0m\u001b[0my\u001b[0m\u001b[0;34m)\u001b[0m\u001b[0;34m\u001b[0m\u001b[0m\n\u001b[0m\u001b[1;32m    549\u001b[0m     \u001b[0;32mif\u001b[0m \u001b[0my_numeric\u001b[0m \u001b[0;32mand\u001b[0m \u001b[0my\u001b[0m\u001b[0;34m.\u001b[0m\u001b[0mdtype\u001b[0m\u001b[0;34m.\u001b[0m\u001b[0mkind\u001b[0m \u001b[0;34m==\u001b[0m \u001b[0;34m'O'\u001b[0m\u001b[0;34m:\u001b[0m\u001b[0;34m\u001b[0m\u001b[0m\n\u001b[1;32m    550\u001b[0m         \u001b[0my\u001b[0m \u001b[0;34m=\u001b[0m \u001b[0my\u001b[0m\u001b[0;34m.\u001b[0m\u001b[0mastype\u001b[0m\u001b[0;34m(\u001b[0m\u001b[0mnp\u001b[0m\u001b[0;34m.\u001b[0m\u001b[0mfloat64\u001b[0m\u001b[0;34m)\u001b[0m\u001b[0;34m\u001b[0m\u001b[0m\n",
      "\u001b[0;32m~/anaconda/lib/python3.6/site-packages/sklearn/utils/validation.py\u001b[0m in \u001b[0;36m_assert_all_finite\u001b[0;34m(X)\u001b[0m\n\u001b[1;32m     41\u001b[0m             and not np.isfinite(X).all()):\n\u001b[1;32m     42\u001b[0m         raise ValueError(\"Input contains NaN, infinity\"\n\u001b[0;32m---> 43\u001b[0;31m                          \" or a value too large for %r.\" % X.dtype)\n\u001b[0m\u001b[1;32m     44\u001b[0m \u001b[0;34m\u001b[0m\u001b[0m\n\u001b[1;32m     45\u001b[0m \u001b[0;34m\u001b[0m\u001b[0m\n",
      "\u001b[0;31mValueError\u001b[0m: Input contains NaN, infinity or a value too large for dtype('float64')."
     ]
    }
   ],
   "source": [
    "logreg_zeros.fit(X_zeros_train, y_zeros_train)"
   ]
  },
  {
   "cell_type": "code",
   "execution_count": 46,
   "metadata": {},
   "outputs": [
    {
     "ename": "ValueError",
     "evalue": "Input contains NaN, infinity or a value too large for dtype('float64').",
     "output_type": "error",
     "traceback": [
      "\u001b[0;31m---------------------------------------------------------------------------\u001b[0m",
      "\u001b[0;31mValueError\u001b[0m                                Traceback (most recent call last)",
      "\u001b[0;32m<ipython-input-46-96922580221e>\u001b[0m in \u001b[0;36m<module>\u001b[0;34m()\u001b[0m\n\u001b[0;32m----> 1\u001b[0;31m \u001b[0mlogreg_means\u001b[0m\u001b[0;34m.\u001b[0m\u001b[0mfit\u001b[0m\u001b[0;34m(\u001b[0m\u001b[0mX_means_train\u001b[0m\u001b[0;34m,\u001b[0m \u001b[0my_means_train\u001b[0m\u001b[0;34m)\u001b[0m\u001b[0;34m\u001b[0m\u001b[0m\n\u001b[0m",
      "\u001b[0;32m~/anaconda/lib/python3.6/site-packages/sklearn/linear_model/logistic.py\u001b[0m in \u001b[0;36mfit\u001b[0;34m(self, X, y, sample_weight)\u001b[0m\n\u001b[1;32m   1609\u001b[0m \u001b[0;34m\u001b[0m\u001b[0m\n\u001b[1;32m   1610\u001b[0m         X, y = check_X_y(X, y, accept_sparse='csr', dtype=np.float64,\n\u001b[0;32m-> 1611\u001b[0;31m                          order=\"C\")\n\u001b[0m\u001b[1;32m   1612\u001b[0m         \u001b[0mcheck_classification_targets\u001b[0m\u001b[0;34m(\u001b[0m\u001b[0my\u001b[0m\u001b[0;34m)\u001b[0m\u001b[0;34m\u001b[0m\u001b[0m\n\u001b[1;32m   1613\u001b[0m \u001b[0;34m\u001b[0m\u001b[0m\n",
      "\u001b[0;32m~/anaconda/lib/python3.6/site-packages/sklearn/utils/validation.py\u001b[0m in \u001b[0;36mcheck_X_y\u001b[0;34m(X, y, accept_sparse, dtype, order, copy, force_all_finite, ensure_2d, allow_nd, multi_output, ensure_min_samples, ensure_min_features, y_numeric, warn_on_dtype, estimator)\u001b[0m\n\u001b[1;32m    546\u001b[0m     \u001b[0;32melse\u001b[0m\u001b[0;34m:\u001b[0m\u001b[0;34m\u001b[0m\u001b[0m\n\u001b[1;32m    547\u001b[0m         \u001b[0my\u001b[0m \u001b[0;34m=\u001b[0m \u001b[0mcolumn_or_1d\u001b[0m\u001b[0;34m(\u001b[0m\u001b[0my\u001b[0m\u001b[0;34m,\u001b[0m \u001b[0mwarn\u001b[0m\u001b[0;34m=\u001b[0m\u001b[0;32mTrue\u001b[0m\u001b[0;34m)\u001b[0m\u001b[0;34m\u001b[0m\u001b[0m\n\u001b[0;32m--> 548\u001b[0;31m         \u001b[0m_assert_all_finite\u001b[0m\u001b[0;34m(\u001b[0m\u001b[0my\u001b[0m\u001b[0;34m)\u001b[0m\u001b[0;34m\u001b[0m\u001b[0m\n\u001b[0m\u001b[1;32m    549\u001b[0m     \u001b[0;32mif\u001b[0m \u001b[0my_numeric\u001b[0m \u001b[0;32mand\u001b[0m \u001b[0my\u001b[0m\u001b[0;34m.\u001b[0m\u001b[0mdtype\u001b[0m\u001b[0;34m.\u001b[0m\u001b[0mkind\u001b[0m \u001b[0;34m==\u001b[0m \u001b[0;34m'O'\u001b[0m\u001b[0;34m:\u001b[0m\u001b[0;34m\u001b[0m\u001b[0m\n\u001b[1;32m    550\u001b[0m         \u001b[0my\u001b[0m \u001b[0;34m=\u001b[0m \u001b[0my\u001b[0m\u001b[0;34m.\u001b[0m\u001b[0mastype\u001b[0m\u001b[0;34m(\u001b[0m\u001b[0mnp\u001b[0m\u001b[0;34m.\u001b[0m\u001b[0mfloat64\u001b[0m\u001b[0;34m)\u001b[0m\u001b[0;34m\u001b[0m\u001b[0m\n",
      "\u001b[0;32m~/anaconda/lib/python3.6/site-packages/sklearn/utils/validation.py\u001b[0m in \u001b[0;36m_assert_all_finite\u001b[0;34m(X)\u001b[0m\n\u001b[1;32m     41\u001b[0m             and not np.isfinite(X).all()):\n\u001b[1;32m     42\u001b[0m         raise ValueError(\"Input contains NaN, infinity\"\n\u001b[0;32m---> 43\u001b[0;31m                          \" or a value too large for %r.\" % X.dtype)\n\u001b[0m\u001b[1;32m     44\u001b[0m \u001b[0;34m\u001b[0m\u001b[0m\n\u001b[1;32m     45\u001b[0m \u001b[0;34m\u001b[0m\u001b[0m\n",
      "\u001b[0;31mValueError\u001b[0m: Input contains NaN, infinity or a value too large for dtype('float64')."
     ]
    }
   ],
   "source": [
    "logreg_means.fit(X_means_train, y_means_train)"
   ]
  },
  {
   "cell_type": "markdown",
   "metadata": {},
   "source": [
    "YOUR ANSWER HERE"
   ]
  },
  {
   "cell_type": "markdown",
   "metadata": {},
   "source": [
    "**5. (2 балл)** Обучите логистическую регрессию с l2-регуляризаций по аналогии с предыдущим заданием, но используя балансировку и стратификацию классов. Для стратификации вам надо снова разбить на обучение и тест, используя дополнительный параметр stratify=y. Для балансировки классов в предсказании передайте в конструктор логистической регрессии дополнительный параметр class_weight='balanced'. Используйте данные, на которых получена лучшая метрика roc-auc в предыдущем задании. Ответьте на вопросы. Как изменились результы? Как вы думаете почему? Всегда ли балансировка и стратификация приведет к улучшению метрики roc-auc на обучающей выборке? на тестовой?"
   ]
  },
  {
   "cell_type": "code",
   "execution_count": null,
   "metadata": {
    "collapsed": true
   },
   "outputs": [],
   "source": [
    "# YOUR CODE HERE"
   ]
  },
  {
   "cell_type": "markdown",
   "metadata": {},
   "source": [
    "YOUR ANSWER HERE"
   ]
  },
  {
   "cell_type": "markdown",
   "metadata": {},
   "source": [
    "**6. (2 балла) ** Преобразуйте вещественные признаки модели при помощи полиномиальных признаков степени 3 (использйте вещественные признаки предыдущего задания). Для этого используйте класс [*sklearn.preprocessing.PolynomialFeatures*](http://scikit-learn.org/stable/modules/generated/sklearn.preprocessing.PolynomialFeatures.html). Обучите логистическую регрессию с l2-регуляризацией по аналогии с предыдущим заданием. Ответьте на вопросы. Как изменились результаты? Смогли ли мы улучшить результат? Или мы переобучились?\n",
    "\n",
    "*Примечание: в этом задании надо отдельно преобразовать вещественные признаки и снова объеденить их с категориальными и также заново разбить всю выборку на обучение и тест, используя технику стратификации классов.*"
   ]
  },
  {
   "cell_type": "code",
   "execution_count": null,
   "metadata": {
    "collapsed": true
   },
   "outputs": [],
   "source": [
    "# YOUR CODE HERE"
   ]
  },
  {
   "cell_type": "markdown",
   "metadata": {},
   "source": [
    "YOUR ANSWER HERE"
   ]
  },
  {
   "cell_type": "markdown",
   "metadata": {},
   "source": [
    "**7. (1 балл)** Обучите логистическую регрессию с l1-регуляризацией на стратифицированных отмасштабированных выборках по аналогии с 5м заданием, используя балансировку классов при помощи весов (данные из 5-го задания). Для этого передайте в конструктор sklearn.linear_model.LogisticRegressionCV параметр penalty='l1'. Ответьте на вопросы. Как изменились значения метрики roc-auc? Какие вещественные признаки имеют нулевые веса в итоговой модели?"
   ]
  },
  {
   "cell_type": "code",
   "execution_count": null,
   "metadata": {
    "collapsed": true
   },
   "outputs": [],
   "source": [
    "# YOUR CODE HERE"
   ]
  },
  {
   "cell_type": "markdown",
   "metadata": {},
   "source": [
    "YOUR ANSWER HERE"
   ]
  },
  {
   "cell_type": "markdown",
   "metadata": {},
   "source": [
    "### 4. (10 баллов) Бонусное задание\n",
    "![](https://i.imgflip.com/249qsq.jpg)"
   ]
  },
  {
   "cell_type": "markdown",
   "metadata": {},
   "source": [
    "**1. (4 балла)**  Известно, что процесс обучения линейной регресси в виде оптимизации следующего функционала\n",
    "$$\n",
    "MSE = ||Xw - y||^2 \\to \\min_{w},\n",
    "$$\n",
    "допускает аналитическое решение вида $w_* = (X^TX)^{-1}X^Ty$. Докажите это, показав аналитически, что вектор $w_*$ доставляет глобальный минимум квадритичного функционала MSE. Также привидете примеры построения регрессии при помощи аналитической формулы и библиотечными средствами на двумерных синтетических данных."
   ]
  },
  {
   "cell_type": "markdown",
   "metadata": {},
   "source": [
    "YOUR ANSWER HERE"
   ]
  },
  {
   "cell_type": "code",
   "execution_count": null,
   "metadata": {
    "collapsed": true
   },
   "outputs": [],
   "source": [
    "# YOUR CODE HERE"
   ]
  },
  {
   "cell_type": "markdown",
   "metadata": {},
   "source": [
    "**2. (6 баллов)** В этом задании вам предлагается реализовать аналог класса *sklearn.linear_model.LogisticRegression*. Использовать циклы в задании запрещено, кроме итераций градиентного спуска. Напомню, что задача обучения линейного классификатора заключается в том, чтобы по выборке  $X^l$ настроить вектор весов $w$. В логистической регрессии для этого решается задача минимизации эмпирического риска с функцией потерь специального вида:\n",
    "$$\n",
    "Q\\left(X^l, w\\right) = \\sum_{i=1}^{l}\\log\\left(1 +\\exp\\left(y_i\\langle x_i,w \\rangle\\right)\\right) + l_1\\cdot|w| + 0.5l_2\\cdot\\langle w, w \\rangle\n",
    "$$\n",
    "Здесь $\\langle .,. \\rangle$ $-$ скалярное произведение, $l_1, \\ l_2$ $-$ параметры регуляризации.\n",
    "Также привидите аналитическое выражения для вычисления градиента функции риска $\\dfrac{\\partial Q}{\\partial w}$ в матричном виде, используйте полученное выражение при реализации функции gradf. Рассмотрите только случай бинарной классификации, то есть $Y = \\{-1, 1\\}$."
   ]
  },
  {
   "cell_type": "code",
   "execution_count": null,
   "metadata": {
    "collapsed": true
   },
   "outputs": [],
   "source": [
    "from scipy import special\n",
    "from scipy.optimize import minimize\n",
    "from sklearn.base import ClassifierMixin, BaseEstimator\n",
    "from sklearn.datasets import make_classification\n",
    "\n",
    "# Используйте scipy.special для вычисления численно неустойчивых функций\n",
    "# https://docs.scipy.org/doc/scipy/reference/special.html#module-scipy.special\n",
    "\n",
    "\n",
    "def lossf(w, X, y, l1, l2):\n",
    "    \"\"\"\n",
    "    Вычисление функции потерь.\n",
    "\n",
    "    :param w: numpy.array размера  (M,) dtype = np.float\n",
    "    :param X: numpy.array размера  (N, M), dtype = np.float\n",
    "    :param y: numpy.array размера  (N,), dtype = np.int\n",
    "    :param l1: float, l1 коэффициент регуляризатора\n",
    "    :param l2: float, l2 коэффициент регуляризатора\n",
    "    :return: float, value of loss function\n",
    "    \"\"\"\n",
    "    \n",
    "    # YOUR CODE HERE\n",
    "    raise NotImplementedError\n",
    "\n",
    "\n",
    "def gradf(w, X, y, l1, l2):\n",
    "    \"\"\"\n",
    "    Вычисление градиента функции потерь.\n",
    "\n",
    "    :param w: numpy.array размера  (M,), dtype = np.float\n",
    "    :param X: numpy.array размера  (N, M), dtype = np.float\n",
    "    :param y: numpy.array размера  (N,), dtype = np.int\n",
    "    :param l1: float, l1 коэффициент регуляризатора\n",
    "    :param l2: float, l2 коэффициент регуляризатора\n",
    "    :return: numpy.array размера  (M,), dtype = np.float, gradient vector d lossf / dw\n",
    "    \"\"\"\n",
    "    \n",
    "    # YOUR CODE HERE\n",
    "    raise NotImplementedError\n",
    "\n",
    "\n",
    "class LR(BaseEstimator, ClassifierMixin):\n",
    "    def __init__(self, lr=1, l1=1e-4, l2=1e-4, num_iter=1000, verbose=0):\n",
    "        self.l1 = l1\n",
    "        self.l2 = l2\n",
    "        self.w = None\n",
    "        self.lr = lr\n",
    "        self.verbose = verbose\n",
    "        self.num_iter = num_iter\n",
    "\n",
    "    def fit(self, X, y):\n",
    "        \"\"\"\n",
    "        Обучение логистической регрессии.\n",
    "        Настраивает self.w коэффициенты модели.\n",
    "\n",
    "        Если self.verbose == True, то выводите значение\n",
    "        функции потерь на итерациях метода оптимизации.\n",
    "\n",
    "        :param X: numpy.array размера  (N, M), dtype = np.float\n",
    "        :param y: numpy.array размера  (N,), dtype = np.int\n",
    "        :return: self\n",
    "        \"\"\"\n",
    "        \n",
    "        # YOUR CODE HERE\n",
    "        raise NotImplementedError\n",
    "\n",
    "    def predict_proba(self, X):\n",
    "        \"\"\"\n",
    "        Предсказание вероятности принадлежности объекта к классу 1.\n",
    "        Возвращает np.array размера (N,) чисел в отрезке от 0 до 1.\n",
    "\n",
    "        :param X: numpy.array размера  (N, M), dtype = np.float\n",
    "        :return: numpy.array размера  (N,), dtype = np.int\n",
    "        \"\"\"\n",
    "        # Вычислите вероятности принадлежности каждого\n",
    "        # объекта из X к положительному классу, используйте\n",
    "        # эту функцию для реализации LR.predict\n",
    "        \n",
    "        # YOUR CODE HERE\n",
    "        raise NotImplementedError\n",
    "\n",
    "    def predict(self, X):\n",
    "        \"\"\"\n",
    "        Предсказание класса для объекта.\n",
    "        Возвращает np.array размера (N,) элементов 1 или -1.\n",
    "\n",
    "        :param X: numpy.array размера  (N, M), dtype = np.float\n",
    "        :return:  numpy.array размера  (N,), dtype = np.int\n",
    "        \"\"\"\n",
    "        # Вычислите метку класса каждого\n",
    "        # объекта из X к положительному классу, используйте\n",
    "        # эту функцию для реализации LR.predict\n",
    "        \n",
    "        # YOUR CODE HERE\n",
    "        raise NotImplementedError \n",
    "\n",
    "\n",
    "def test_work1():\n",
    "    print(\"Start test1\")\n",
    "    X, y = make_classification(n_features=100, n_samples=1000)\n",
    "    y = 2 * (y - 0.5)\n",
    "\n",
    "    try:\n",
    "        clf = LR(lr=1, l1=1e-4, l2=1e-4, num_iter=1000, verbose=0)\n",
    "    except Exception:\n",
    "        assert False, \"Создание модели завершается с ошибкой\"\n",
    "        return\n",
    "\n",
    "    try:\n",
    "        clf = clf.fit(X, y)\n",
    "    except Exception:\n",
    "        assert False, \"Обучение модели завершается с ошибкой\"\n",
    "        return\n",
    "\n",
    "    assert isinstance(lossf(clf.w, X, y, 1e-3, 1e-3), float), \"Функция потерь должна быть скалярной и иметь тип np.float\"\n",
    "    assert gradf(clf.w, X, y, 1e-3, 1e-3).shape == (100,), \"Размерность градиента должна совпадать с числом параметров\"\n",
    "    assert gradf(clf.w, X, y, 1e-3, 1e-3).dtype == np.float, \"Вектор градиента, должен состоять из элементов типа np.float\"\n",
    "    assert clf.predict(X).shape == (1000,), \"Размер вектора предсказаний, должен совпадать с количеством объектов\"\n",
    "    assert np.min(clf.predict_proba(X)) >= 0, \"Вероятности должны быть не меньше, чем 0\"\n",
    "    assert np.max(clf.predict_proba(X)) <= 1, \"Вероятности должны быть не больше, чем 1\"\n",
    "    assert len(set(clf.predict(X))) == 2, \"Метод предсказывает больше чем 2 класса на двух классовой задаче\"\n",
    "    print(\"End test1\")\n",
    "\n",
    "def test_work2(eps=1e-5):\n",
    "    print(\"Start test2\")\n",
    "    X, y = make_classification(n_features=100, n_samples=1000)\n",
    "    y = 2 * (y - 0.5)\n",
    "    clf = LR(lr=1e-3, l1=1e-4, l2=1e-4, num_iter=2000, verbose=1)\n",
    "    clf.fit(X, y)\n",
    "    opt = minimize(lossf, np.ones(X.shape[1]), args=(X, y, 1e-4, 1e-4), method='L-BFGS-B')\n",
    "    if (np.abs(opt.fun - lossf(clf.w ,X, y, 1e-4, 1e-4)) < 1e-4):\n",
    "        print(\"Работает в рамках погрешности EPS =\", eps, \"!\")\n",
    "    else:\n",
    "        print(\"Что-то пошло не так!-(\")\n",
    "    print(\"Start test2\")\n",
    "        \n",
    "def test_work3(eps=1e-5):\n",
    "    \"\"\"\n",
    "    Сравните работу вашей реализации и работы класса sklearn.linear_model.LogisticRegression \n",
    "    на двумерных синтетических данных\n",
    "    \"\"\"\n",
    "    # YOUR CODE HERE\n",
    "    raise NotImplemented\n",
    "    \n",
    "\n",
    "def main():\n",
    "    test_work1()\n",
    "    test_work2()\n",
    "    test_work3()\n",
    "\n",
    "\n",
    "if __name__==\"__main__\":\n",
    "    main()"
   ]
  }
 ],
 "metadata": {
  "kernelspec": {
   "display_name": "Python 3",
   "language": "python",
   "name": "python3"
  },
  "language_info": {
   "codemirror_mode": {
    "name": "ipython",
    "version": 3
   },
   "file_extension": ".py",
   "mimetype": "text/x-python",
   "name": "python",
   "nbconvert_exporter": "python",
   "pygments_lexer": "ipython3",
   "version": "3.6.2"
  }
 },
 "nbformat": 4,
 "nbformat_minor": 2
}
