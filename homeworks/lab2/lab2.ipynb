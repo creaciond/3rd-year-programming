{
 "cells": [
  {
   "cell_type": "markdown",
   "metadata": {},
   "source": [
    "## Лабораторная работа 2. Работа с основными библиотеками анализа данных. Логистическая регрессия.\n",
    "\n",
    "Постарайтесь оформить всю работу как один монолитный рассказ/отчет. Избегайте дублирования кода. Избегайте использования циклов, вместо этого ищите готовый алгоритм в пакетах. Подписывайте все графики, а также их оси, если график содержит несколько кривых, то обязательно пользуйтесь легендой. Также неукоснительно соблюдайте PEP8. За несоблюдение этих простейших правил итоговые баллы могут быть снижены безапелляционно."
   ]
  },
  {
   "cell_type": "markdown",
   "metadata": {},
   "source": [
    "### 1. (5 баллов) More NumPy\n",
    "\n",
    "![](http://static.wixstatic.com/media/7b913d_7d27b1ff5fe54cc79c80d2cc0e319d92~mv2.jpg)\n",
    "\n",
    "Во всех заданиях данного раздела запрещено пользоваться циклами, а также использовать *builtin* функции *map*, *filter*, *zip*. Таким образом все функции в заданиях должны быть реализованы средствами самого пакета *numpy*. Для каждого задания привидите **не менее четырех** примеров использования, тестирующих реализацию функций. Предварительно полезно \"по диагонали\" ознакомиться с [документацией пакета](https://docs.scipy.org/doc/numpy-1.13.0/reference/), и детально с описанием класса [numpy.ndarray](https://docs.scipy.org/doc/numpy-1.13.0/reference/generated/numpy.ndarray.html)."
   ]
  },
  {
   "cell_type": "code",
   "execution_count": 1,
   "metadata": {
    "collapsed": true
   },
   "outputs": [],
   "source": [
    "import numpy as np"
   ]
  },
  {
   "cell_type": "markdown",
   "metadata": {},
   "source": [
    "**1. (1 балл)** Реализуйте функцию, которая получает на вход матрицу и масштабирует каждый её столбец, а именно вычитает из столбца его среднее значение и делит столбец на стандартное отклонение. Убедитесь, что в функции не будет происходить деления на ноль."
   ]
  },
  {
   "cell_type": "code",
   "execution_count": null,
   "metadata": {
    "collapsed": true
   },
   "outputs": [],
   "source": [
    "def matrix_scaler(X):\n",
    "    # YOUR CODE HERE"
   ]
  },
  {
   "cell_type": "markdown",
   "metadata": {},
   "source": [
    "**2. (1 балл)** Реализуйте функцию для подсчёта произведения ненулевых элементов на диагонали прямоугольной матрицы. Если ненулевых элементов нет, функция должна возвращать *None*."
   ]
  },
  {
   "cell_type": "code",
   "execution_count": 8,
   "metadata": {
    "collapsed": true
   },
   "outputs": [],
   "source": [
    "def nonzero_diag_product(X):\n",
    "    try:\n",
    "        prod = np.prod(np.diag(X))\n",
    "        if prod == 0:\n",
    "            return None\n",
    "        else:\n",
    "            return prod\n",
    "    except:\n",
    "        return ValueError(\"Something is worng with the array, try again\")"
   ]
  },
  {
   "cell_type": "markdown",
   "metadata": {},
   "source": [
    "**3. (2 балла)** Даны две вещественные матрицы *X* и *Y* с одинаковым числом столбцов и, в общем случае, различным числом строк. Необходимо реализовать функцию, вычисляющую матрицу попарных евклидовых расстояний между всеми элементами декартового произведения строк *X* и *Y* (аналог *sklearn.metrics.pairwise_distances*). Рекомендуется обратить внимание на функции *np.dot*, *np.repeat*, *np.reshape*, *np.transpose*, *np.sqrt*, *np.sum* и *np.power*. Но не запрещается пользоваться аналогами."
   ]
  },
  {
   "cell_type": "code",
   "execution_count": null,
   "metadata": {
    "collapsed": true
   },
   "outputs": [],
   "source": [
    "from scipy.spatial.distance import cdist\n",
    "\n",
    "\n",
    "def count_euclidean_distance(X, Y):\n",
    "    xs = X.shape\n",
    "    ys = Y.shape\n",
    "    if len(xs) != 2:\n",
    "        raise ValueError('X must be 2-dimensional array.')\n",
    "    if len(ys) != 2:\n",
    "        raise ValueError('X must be 2-dimensional array.')\n",
    "    if xs[1] != ys[1]:\n",
    "        raise ValueError('X and Y must have the same number of columns.')\n",
    "    \n",
    "    # YOUR CODE HERE"
   ]
  },
  {
   "cell_type": "markdown",
   "metadata": {},
   "source": [
    "**4. (1 балл)** Реализуйте функцию, которая для заданной матрицы находит:\n",
    " - определитель\n",
    " - след\n",
    " - наименьший и наибольший элементы\n",
    " - норму Фробениуса\n",
    " - собственные числа\n",
    " - обратную матрицу"
   ]
  },
  {
   "cell_type": "code",
   "execution_count": null,
   "metadata": {
    "collapsed": true
   },
   "outputs": [],
   "source": [
    "class MatrixStats(dict):\n",
    "    \n",
    "    @classmethod\n",
    "    def calculate(cls, matrix):\n",
    "        return get_stats(matrix)\n",
    "    \n",
    "\n",
    "def get_stats(X):\n",
    "    stats = MatrixStats()\n",
    "    stats[\"det\"] = np.linalg.det(X)\n",
    "    stats[\"trace\"] = np.trace(X)\n",
    "    stats[\"max\"] = np.amax(X)\n",
    "    stats[\"min\"] = np.amin(X)\n",
    "    stats[\"norm\"] = np.lianalg.norm(X)\n",
    "    stats[\"eigvals\"] = np.linalg.eig(X)\n",
    "    stats[\"inv\"] = np.linalg.inv(X)\n",
    "    return stats\n",
    "\n",
    "stats = MatrixStats.calculate(np.eye(4))\n",
    "assert stats['det'] == 1.0\n",
    "assert (stats['mat'] == np.eye(4)).all()\n",
    "assert (stats['inv'] == np.eye(4)).all()\n",
    "assert (stats['eigvals'] == np.ones(4)).all()\n",
    "assert stats['max'] == 1.0\n",
    "assert stats['min'] == 0.0\n",
    "assert stats['norm'] == 2.0\n",
    "assert stats['trace'] == 4.0"
   ]
  },
  {
   "cell_type": "markdown",
   "metadata": {},
   "source": [
    "### 2. (5 баллов) More Pandas\n",
    "\n",
    "![](https://metrouk2.files.wordpress.com/2015/10/panda.jpg)\n",
    "\n",
    "Загрузите данные о пассажирах Титаника из файлов *titanic_data.csv* и *titanic_surv.csv* и ответьте на вопросы ниже. Каждый ответ поясните.\n",
    "\n",
    "Информация о файлах: \n",
    " - *titanic_data.csv* содержит различную информацию о пассажирах Титаника (билет, класс, возраст и т.п.)\n",
    " - *titanic_surv.csv* содержит для каждого пассажира из первого файла информацию о том, выжил ли этот пассажир (метка 1) или нет (метка 0)"
   ]
  },
  {
   "cell_type": "code",
   "execution_count": 2,
   "metadata": {
    "collapsed": true
   },
   "outputs": [],
   "source": [
    "import pandas as pd"
   ]
  },
  {
   "cell_type": "markdown",
   "metadata": {},
   "source": [
    "**1. (2 балла)** Сделайте join двух датафреймов в один по полю индекса. Опишите данный датасет: какое расределение женщин/мужчин в нем? Сколько пассажиров ехало в каждом классе? Какой средний/минимальный/максимальный возраст пассажиров? Сколько было выживших пассажиров?"
   ]
  },
  {
   "cell_type": "code",
   "execution_count": 40,
   "metadata": {},
   "outputs": [
    {
     "data": {
      "text/html": [
       "<div>\n",
       "<style>\n",
       "    .dataframe thead tr:only-child th {\n",
       "        text-align: right;\n",
       "    }\n",
       "\n",
       "    .dataframe thead th {\n",
       "        text-align: left;\n",
       "    }\n",
       "\n",
       "    .dataframe tbody tr th {\n",
       "        vertical-align: top;\n",
       "    }\n",
       "</style>\n",
       "<table border=\"1\" class=\"dataframe\">\n",
       "  <thead>\n",
       "    <tr style=\"text-align: right;\">\n",
       "      <th></th>\n",
       "      <th>Pclass</th>\n",
       "      <th>Name</th>\n",
       "      <th>Sex</th>\n",
       "      <th>Age</th>\n",
       "      <th>SibSp</th>\n",
       "      <th>Parch</th>\n",
       "      <th>Ticket</th>\n",
       "      <th>Fare</th>\n",
       "      <th>Cabin</th>\n",
       "      <th>Embarked</th>\n",
       "      <th>Survived</th>\n",
       "    </tr>\n",
       "  </thead>\n",
       "  <tbody>\n",
       "    <tr>\n",
       "      <th>2</th>\n",
       "      <td>1.0</td>\n",
       "      <td>Cumings, Mrs. John Bradley (Florence Briggs Th...</td>\n",
       "      <td>female</td>\n",
       "      <td>38.0</td>\n",
       "      <td>1.0</td>\n",
       "      <td>0.0</td>\n",
       "      <td>PC 17599</td>\n",
       "      <td>71.2833</td>\n",
       "      <td>C85</td>\n",
       "      <td>C</td>\n",
       "      <td>1.0</td>\n",
       "    </tr>\n",
       "    <tr>\n",
       "      <th>4</th>\n",
       "      <td>1.0</td>\n",
       "      <td>Futrelle, Mrs. Jacques Heath (Lily May Peel)</td>\n",
       "      <td>female</td>\n",
       "      <td>35.0</td>\n",
       "      <td>1.0</td>\n",
       "      <td>0.0</td>\n",
       "      <td>113803</td>\n",
       "      <td>53.1000</td>\n",
       "      <td>C123</td>\n",
       "      <td>S</td>\n",
       "      <td>0.0</td>\n",
       "    </tr>\n",
       "    <tr>\n",
       "      <th>7</th>\n",
       "      <td>1.0</td>\n",
       "      <td>McCarthy, Mr. Timothy J</td>\n",
       "      <td>male</td>\n",
       "      <td>54.0</td>\n",
       "      <td>0.0</td>\n",
       "      <td>0.0</td>\n",
       "      <td>17463</td>\n",
       "      <td>51.8625</td>\n",
       "      <td>E46</td>\n",
       "      <td>S</td>\n",
       "      <td>0.0</td>\n",
       "    </tr>\n",
       "    <tr>\n",
       "      <th>11</th>\n",
       "      <td>3.0</td>\n",
       "      <td>Sandstrom, Miss. Marguerite Rut</td>\n",
       "      <td>female</td>\n",
       "      <td>4.0</td>\n",
       "      <td>1.0</td>\n",
       "      <td>1.0</td>\n",
       "      <td>PP 9549</td>\n",
       "      <td>16.7000</td>\n",
       "      <td>G6</td>\n",
       "      <td>S</td>\n",
       "      <td>1.0</td>\n",
       "    </tr>\n",
       "    <tr>\n",
       "      <th>12</th>\n",
       "      <td>1.0</td>\n",
       "      <td>Bonnell, Miss. Elizabeth</td>\n",
       "      <td>female</td>\n",
       "      <td>58.0</td>\n",
       "      <td>0.0</td>\n",
       "      <td>0.0</td>\n",
       "      <td>113783</td>\n",
       "      <td>26.5500</td>\n",
       "      <td>C103</td>\n",
       "      <td>S</td>\n",
       "      <td>0.0</td>\n",
       "    </tr>\n",
       "  </tbody>\n",
       "</table>\n",
       "</div>"
      ],
      "text/plain": [
       "    Pclass                                               Name     Sex   Age  \\\n",
       "2      1.0  Cumings, Mrs. John Bradley (Florence Briggs Th...  female  38.0   \n",
       "4      1.0       Futrelle, Mrs. Jacques Heath (Lily May Peel)  female  35.0   \n",
       "7      1.0                            McCarthy, Mr. Timothy J    male  54.0   \n",
       "11     3.0                    Sandstrom, Miss. Marguerite Rut  female   4.0   \n",
       "12     1.0                           Bonnell, Miss. Elizabeth  female  58.0   \n",
       "\n",
       "    SibSp  Parch    Ticket     Fare Cabin Embarked  Survived  \n",
       "2     1.0    0.0  PC 17599  71.2833   C85        C       1.0  \n",
       "4     1.0    0.0    113803  53.1000  C123        S       0.0  \n",
       "7     0.0    0.0     17463  51.8625   E46        S       0.0  \n",
       "11    1.0    1.0   PP 9549  16.7000    G6        S       1.0  \n",
       "12    0.0    0.0    113783  26.5500  C103        S       0.0  "
      ]
     },
     "execution_count": 40,
     "metadata": {},
     "output_type": "execute_result"
    }
   ],
   "source": [
    "titanic_info = pd.read_csv(\"./titanic_data.csv\", sep=\",\").set_index(\"PassengerId\")\n",
    "titanic_surv = pd.read_csv(\"./titanic_surv.csv\", sep=\",\")\n",
    "titanic_df = pd.concat([titanic_info, titanic_surv], axis=1).dropna()\n",
    "titanic_df.head()"
   ]
  },
  {
   "cell_type": "code",
   "execution_count": 57,
   "metadata": {},
   "outputs": [
    {
     "name": "stdout",
     "output_type": "stream",
     "text": [
      "1) На Титанике плыло 95 мужчин и 88 женщин.\n",
      "\n",
      "2) Минимальный возраст: 0.92, максимальный возраст: 80.0\n",
      "Средний возраст: 35.67\n",
      "\n",
      "3) Распределение по классам:\n",
      "1.0    158\n",
      "2.0     15\n",
      "3.0     10\n",
      "Name: Pclass, dtype: int64\n",
      "\n",
      "4)Всего выжило: 64\n"
     ]
    }
   ],
   "source": [
    "# распределение\n",
    "print(\"1) На Титанике плыло {} мужчин и {} женщин.\".format(len(titanic_df[titanic_df[\"Sex\"] == \"male\"]),\n",
    "                                                        len(titanic_df[titanic_df[\"Sex\"] == \"female\"])))\n",
    "# возраст\n",
    "print(\"\\n2) Минимальный возраст: {}, максимальный возраст: {}\".format(min(titanic_df[\"Age\"]), max(titanic_df[\"Age\"])))\n",
    "print(\"Средний возраст: {:.2f}\".format(titanic_df[\"Age\"].mean()))\n",
    "# классы\n",
    "print(\"\\n3) Распределение по классам:\")\n",
    "print(titanic_df[\"Pclass\"].value_counts())\n",
    "# выживших\n",
    "print(\"\\n4)Всего выжило: {}\".format(len(titanic_df[titanic_df[\"Survived\"] == 1])))"
   ]
  },
  {
   "cell_type": "markdown",
   "metadata": {},
   "source": [
    "**2. (2 балла)** Верно ли, что женщины выживали чаще мужчин? Какие пассажиры выживали чаще: с более дешевыми или дорогими билетами? Верно ли, что чаще выживали более молодые пассажиры?"
   ]
  },
  {
   "cell_type": "code",
   "execution_count": null,
   "metadata": {
    "collapsed": true
   },
   "outputs": [],
   "source": [
    "# YOUR CODE HERE"
   ]
  },
  {
   "cell_type": "markdown",
   "metadata": {},
   "source": [
    "YOUR ANSWER HERE"
   ]
  },
  {
   "cell_type": "markdown",
   "metadata": {},
   "source": [
    "**3. (1 балл)** Сгруппируйте записи по классам пассажиров, в каждой группе посчитайте средний возраст. Верно ли, что во всех классах эта величина примерно одинакова?"
   ]
  },
  {
   "cell_type": "code",
   "execution_count": null,
   "metadata": {
    "collapsed": true
   },
   "outputs": [],
   "source": [
    "# YOUR CODE HERE"
   ]
  },
  {
   "cell_type": "markdown",
   "metadata": {},
   "source": [
    "YOUR ANSWER HERE"
   ]
  },
  {
   "cell_type": "markdown",
   "metadata": {},
   "source": [
    "### 3. (10 баллов) Scikit-learn and Logistic Regression\n",
    "![](https://i.ytimg.com/vi/1nWFHa6K23w/maxresdefault.jpg)\n",
    "<!-- .element height=\"10%\" width=\"10%\" -->\n",
    "\n",
    "Задача: по 38 признакам, связанных с заявкой на грант (область исследований учёных, информация по их академическому бэкграунду, размер гранта, область, в которой он выдаётся) предсказать, будет ли заявка принята. Датасет включает в себя информацию по 10884 заявкам на гранты, которые были поданы в университете Мельбурна в период с 2004 по 2008 год.\n",
    "\n",
    "Полную версию данных с большим количеством признаков можно найти на официальной [странице соревнования](https://www.kaggle.com/c/unimelb)."
   ]
  },
  {
   "cell_type": "code",
   "execution_count": null,
   "metadata": {
    "collapsed": true
   },
   "outputs": [],
   "source": [
    "from sklearn.preprocessing import StandardScaler, OneHotEncoder\n",
    "from sklearn.model_selection import train_test_split\n",
    "from sklearn.linear_model import LogisticRegressionCV\n",
    "from sklearn.feature_extraction import DictVectorizer"
   ]
  },
  {
   "cell_type": "markdown",
   "metadata": {},
   "source": [
    "**1. (1 балл)** Разделите данные на датафрейм объект-признак и целевую переменную. Разделите датафрейм объект-признак на два датафрейма, состоящих только из вещественных и категориальных признаков соответсвенно. У вас должны получиться следующие датафреймы: X_cat, X_real, y. Также проверьте, есть ли в данных пропуски? К чему приведет удаление всех пропущенных данных?"
   ]
  },
  {
   "cell_type": "code",
   "execution_count": null,
   "metadata": {
    "collapsed": true
   },
   "outputs": [],
   "source": [
    "unimelb_data = pd.read_csv('unimelb_data.csv')\n",
    "unimelb_data.head()"
   ]
  },
  {
   "cell_type": "code",
   "execution_count": null,
   "metadata": {
    "collapsed": true
   },
   "outputs": [],
   "source": [
    "X = unimelb_data.drop('Grant.Status', 1)\n",
    "y = unimelb_data['Grant.Status']"
   ]
  },
  {
   "cell_type": "code",
   "execution_count": null,
   "metadata": {
    "collapsed": true
   },
   "outputs": [],
   "source": [
    "numeric_cols = ['RFCD.Percentage.1', 'RFCD.Percentage.2', 'RFCD.Percentage.3', \n",
    "                'RFCD.Percentage.4', 'RFCD.Percentage.5',\n",
    "                'SEO.Percentage.1', 'SEO.Percentage.2', 'SEO.Percentage.3',\n",
    "                'SEO.Percentage.4', 'SEO.Percentage.5',\n",
    "                'Year.of.Birth.1', 'Number.of.Successful.Grant.1', 'Number.of.Unsuccessful.Grant.1']\n",
    "categorical_cols = list(set(X.columns.values.tolist()) - set(numeric_cols))"
   ]
  },
  {
   "cell_type": "code",
   "execution_count": null,
   "metadata": {
    "collapsed": true
   },
   "outputs": [],
   "source": [
    "# YOUR CODE HERE"
   ]
  },
  {
   "cell_type": "markdown",
   "metadata": {},
   "source": [
    "**2. (1 балл)** Заполните пропущенные вещественные значения в X_real нуля и средними по каждому из признаков (столбцу). Проведите масштабирование данных, используя класс [*sklearn.preprocessing.StandardScaler*](http://scikit-learn.org/stable/modules/generated/sklearn.preprocessing.StandardScaler.html). Полученные датафреймы назовите X_real_zeros, X_real_means. Преобразуйте все категориальные признаки к строковому формату данных, замените все пропуски np.nan на 'NAN'. К полученному датафрейму примените технику one-hot encoding, изпользуя [*sklearn.feature_extraction.DictVectorizer*](http://scikit-learn.org/stable/modules/generated/sklearn.feature_extraction.DictVectorizer.html) и/или [*sklearn.preprocessing.OneHotEncoder*](http://scikit-learn.org/stable/modules/generated/sklearn.preprocessing.OneHotEncoder.html). Полученный датафрейм назовите X_cat_oh. Объедините данные вместе в один датафрейм: X_real_zeros с X_cat_oh и X_real_means c X_cat_oh, полученные датафремы назовите X_full_zeros и X_full_means соответственно."
   ]
  },
  {
   "cell_type": "code",
   "execution_count": null,
   "metadata": {
    "collapsed": true
   },
   "outputs": [],
   "source": [
    "# YOUR CODE HERE"
   ]
  },
  {
   "cell_type": "markdown",
   "metadata": {},
   "source": [
    "**3. (1 балл)** Разделите данные на обучующуюся и тестовую выборки как для X_full_zeros, так и для X_full_means. Используйте *sklearn.model_selection.train_test_split* c параметрами test_size=0.3, random_state=0. Полученные данные назовите при помощи добавления префикса train и test соответственно."
   ]
  },
  {
   "cell_type": "code",
   "execution_count": null,
   "metadata": {
    "collapsed": true
   },
   "outputs": [],
   "source": [
    "# YOUR CODE HERE"
   ]
  },
  {
   "cell_type": "markdown",
   "metadata": {},
   "source": [
    "**4. (2 балла)** Обучите логистическую регрессию c l2-регуляризацией на данных полученных в предыдущем задании. Используйте класс *[sklearn.linear_model.LogisticRegressionCV](http://scikit-learn.org/stable/modules/generated/sklearn.linear_model.LogisticRegressionCV.html)*, в конструктор передайте параметры Cs=[0.01, 0.05, 0.1, 0.5, 1, 5, 10], cv=3, penalty='l2', scoring='roc-auc'. Ответьте на вопросы. На каких данных (где вещественные пропуски заполнены нулями или средними) метрика roc-auc выше? Как выглядит roc-кривая для лучшей модели (используйте функцию [*sklearn.metrics.roc_curve*](http://scikit-learn.org/stable/modules/generated/sklearn.metrics.roc_curve.html))? Какова площадь под roc-кривой для лучшей модели? Какая при этом accuracy?"
   ]
  },
  {
   "cell_type": "code",
   "execution_count": null,
   "metadata": {
    "collapsed": true
   },
   "outputs": [],
   "source": [
    "# YOUR CODE HERE"
   ]
  },
  {
   "cell_type": "markdown",
   "metadata": {},
   "source": [
    "YOUR ANSWER HERE"
   ]
  },
  {
   "cell_type": "markdown",
   "metadata": {},
   "source": [
    "**5. (2 балл)** Обучите логистическую регрессию с l2-регуляризаций по аналогии с предыдущим заданием, но используя балансировку и стратификацию классов. Для стратификации вам надо снова разбить на обучение и тест, используя дополнительный параметр stratify=y. Для балансировки классов в предсказании передайте в конструктор логистической регрессии дополнительный параметр class_weight='balanced'. Используйте данные, на которых получена лучшая метрика roc-auc в предыдущем задании. Ответьте на вопросы. Как изменились результы? Как вы думаете почему? Всегда ли балансировка и стратификация приведет к улучшению метрики roc-auc на обучающей выборке? на тестовой?"
   ]
  },
  {
   "cell_type": "code",
   "execution_count": null,
   "metadata": {
    "collapsed": true
   },
   "outputs": [],
   "source": [
    "# YOUR CODE HERE"
   ]
  },
  {
   "cell_type": "markdown",
   "metadata": {},
   "source": [
    "YOUR ANSWER HERE"
   ]
  },
  {
   "cell_type": "markdown",
   "metadata": {},
   "source": [
    "**6. (2 балла) ** Преобразуйте вещественные признаки модели при помощи полиномиальных признаков степени 3 (использйте вещественные признаки предыдущего задания). Для этого используйте класс [*sklearn.preprocessing.PolynomialFeatures*](http://scikit-learn.org/stable/modules/generated/sklearn.preprocessing.PolynomialFeatures.html). Обучите логистическую регрессию с l2-регуляризацией по аналогии с предыдущим заданием. Ответьте на вопросы. Как изменились результаты? Смогли ли мы улучшить результат? Или мы переобучились?\n",
    "\n",
    "*Примечание: в этом задании надо отдельно преобразовать вещественные признаки и снова объеденить их с категориальными и также заново разбить всю выборку на обучение и тест, используя технику стратификации классов.*"
   ]
  },
  {
   "cell_type": "code",
   "execution_count": null,
   "metadata": {
    "collapsed": true
   },
   "outputs": [],
   "source": [
    "# YOUR CODE HERE"
   ]
  },
  {
   "cell_type": "markdown",
   "metadata": {},
   "source": [
    "YOUR ANSWER HERE"
   ]
  },
  {
   "cell_type": "markdown",
   "metadata": {},
   "source": [
    "**7. (1 балл)** Обучите логистическую регрессию с l1-регуляризацией на стратифицированных отмасштабированных выборках по аналогии с 5м заданием, используя балансировку классов при помощи весов (данные из 5-го задания). Для этого передайте в конструктор sklearn.linear_model.LogisticRegressionCV параметр penalty='l1'. Ответьте на вопросы. Как изменились значения метрики roc-auc? Какие вещественные признаки имеют нулевые веса в итоговой модели?"
   ]
  },
  {
   "cell_type": "code",
   "execution_count": null,
   "metadata": {
    "collapsed": true
   },
   "outputs": [],
   "source": [
    "# YOUR CODE HERE"
   ]
  },
  {
   "cell_type": "markdown",
   "metadata": {},
   "source": [
    "YOUR ANSWER HERE"
   ]
  },
  {
   "cell_type": "markdown",
   "metadata": {},
   "source": [
    "### 4. (10 баллов) Бонусное задание\n",
    "![](https://i.imgflip.com/249qsq.jpg)"
   ]
  },
  {
   "cell_type": "markdown",
   "metadata": {},
   "source": [
    "**1. (4 балла)**  Известно, что процесс обучения линейной регресси в виде оптимизации следующего функционала\n",
    "$$\n",
    "MSE = ||Xw - y||^2 \\to \\min_{w},\n",
    "$$\n",
    "допускает аналитическое решение вида $w_* = (X^TX)^{-1}X^Ty$. Докажите это, показав аналитически, что вектор $w_*$ доставляет глобальный минимум квадритичного функционала MSE. Также привидете примеры построения регрессии при помощи аналитической формулы и библиотечными средствами на двумерных синтетических данных."
   ]
  },
  {
   "cell_type": "markdown",
   "metadata": {},
   "source": [
    "YOUR ANSWER HERE"
   ]
  },
  {
   "cell_type": "code",
   "execution_count": null,
   "metadata": {
    "collapsed": true
   },
   "outputs": [],
   "source": [
    "# YOUR CODE HERE"
   ]
  },
  {
   "cell_type": "markdown",
   "metadata": {},
   "source": [
    "**2. (6 баллов)** В этом задании вам предлагается реализовать аналог класса *sklearn.linear_model.LogisticRegression*. Использовать циклы в задании запрещено, кроме итераций градиентного спуска. Напомню, что задача обучения линейного классификатора заключается в том, чтобы по выборке  $X^l$ настроить вектор весов $w$. В логистической регрессии для этого решается задача минимизации эмпирического риска с функцией потерь специального вида:\n",
    "$$\n",
    "Q\\left(X^l, w\\right) = \\sum_{i=1}^{l}\\log\\left(1 +\\exp\\left(y_i\\langle x_i,w \\rangle\\right)\\right) + l_1\\cdot|w| + 0.5l_2\\cdot\\langle w, w \\rangle\n",
    "$$\n",
    "Здесь $\\langle .,. \\rangle$ $-$ скалярное произведение, $l_1, \\ l_2$ $-$ параметры регуляризации.\n",
    "Также привидите аналитическое выражения для вычисления градиента функции риска $\\dfrac{\\partial Q}{\\partial w}$ в матричном виде, используйте полученное выражение при реализации функции gradf. Рассмотрите только случай бинарной классификации, то есть $Y = \\{-1, 1\\}$."
   ]
  },
  {
   "cell_type": "code",
   "execution_count": null,
   "metadata": {
    "collapsed": true
   },
   "outputs": [],
   "source": [
    "from scipy import special\n",
    "from scipy.optimize import minimize\n",
    "from sklearn.base import ClassifierMixin, BaseEstimator\n",
    "from sklearn.datasets import make_classification\n",
    "\n",
    "# Используйте scipy.special для вычисления численно неустойчивых функций\n",
    "# https://docs.scipy.org/doc/scipy/reference/special.html#module-scipy.special\n",
    "\n",
    "\n",
    "def lossf(w, X, y, l1, l2):\n",
    "    \"\"\"\n",
    "    Вычисление функции потерь.\n",
    "\n",
    "    :param w: numpy.array размера  (M,) dtype = np.float\n",
    "    :param X: numpy.array размера  (N, M), dtype = np.float\n",
    "    :param y: numpy.array размера  (N,), dtype = np.int\n",
    "    :param l1: float, l1 коэффициент регуляризатора\n",
    "    :param l2: float, l2 коэффициент регуляризатора\n",
    "    :return: float, value of loss function\n",
    "    \"\"\"\n",
    "    \n",
    "    # YOUR CODE HERE\n",
    "    raise NotImplementedError\n",
    "\n",
    "\n",
    "def gradf(w, X, y, l1, l2):\n",
    "    \"\"\"\n",
    "    Вычисление градиента функции потерь.\n",
    "\n",
    "    :param w: numpy.array размера  (M,), dtype = np.float\n",
    "    :param X: numpy.array размера  (N, M), dtype = np.float\n",
    "    :param y: numpy.array размера  (N,), dtype = np.int\n",
    "    :param l1: float, l1 коэффициент регуляризатора\n",
    "    :param l2: float, l2 коэффициент регуляризатора\n",
    "    :return: numpy.array размера  (M,), dtype = np.float, gradient vector d lossf / dw\n",
    "    \"\"\"\n",
    "    \n",
    "    # YOUR CODE HERE\n",
    "    raise NotImplementedError\n",
    "\n",
    "\n",
    "class LR(BaseEstimator, ClassifierMixin):\n",
    "    def __init__(self, lr=1, l1=1e-4, l2=1e-4, num_iter=1000, verbose=0):\n",
    "        self.l1 = l1\n",
    "        self.l2 = l2\n",
    "        self.w = None\n",
    "        self.lr = lr\n",
    "        self.verbose = verbose\n",
    "        self.num_iter = num_iter\n",
    "\n",
    "    def fit(self, X, y):\n",
    "        \"\"\"\n",
    "        Обучение логистической регрессии.\n",
    "        Настраивает self.w коэффициенты модели.\n",
    "\n",
    "        Если self.verbose == True, то выводите значение\n",
    "        функции потерь на итерациях метода оптимизации.\n",
    "\n",
    "        :param X: numpy.array размера  (N, M), dtype = np.float\n",
    "        :param y: numpy.array размера  (N,), dtype = np.int\n",
    "        :return: self\n",
    "        \"\"\"\n",
    "        \n",
    "        # YOUR CODE HERE\n",
    "        raise NotImplementedError\n",
    "\n",
    "    def predict_proba(self, X):\n",
    "        \"\"\"\n",
    "        Предсказание вероятности принадлежности объекта к классу 1.\n",
    "        Возвращает np.array размера (N,) чисел в отрезке от 0 до 1.\n",
    "\n",
    "        :param X: numpy.array размера  (N, M), dtype = np.float\n",
    "        :return: numpy.array размера  (N,), dtype = np.int\n",
    "        \"\"\"\n",
    "        # Вычислите вероятности принадлежности каждого\n",
    "        # объекта из X к положительному классу, используйте\n",
    "        # эту функцию для реализации LR.predict\n",
    "        \n",
    "        # YOUR CODE HERE\n",
    "        raise NotImplementedError\n",
    "\n",
    "    def predict(self, X):\n",
    "        \"\"\"\n",
    "        Предсказание класса для объекта.\n",
    "        Возвращает np.array размера (N,) элементов 1 или -1.\n",
    "\n",
    "        :param X: numpy.array размера  (N, M), dtype = np.float\n",
    "        :return:  numpy.array размера  (N,), dtype = np.int\n",
    "        \"\"\"\n",
    "        # Вычислите метку класса каждого\n",
    "        # объекта из X к положительному классу, используйте\n",
    "        # эту функцию для реализации LR.predict\n",
    "        \n",
    "        # YOUR CODE HERE\n",
    "        raise NotImplementedError \n",
    "\n",
    "\n",
    "def test_work1():\n",
    "    print(\"Start test1\")\n",
    "    X, y = make_classification(n_features=100, n_samples=1000)\n",
    "    y = 2 * (y - 0.5)\n",
    "\n",
    "    try:\n",
    "        clf = LR(lr=1, l1=1e-4, l2=1e-4, num_iter=1000, verbose=0)\n",
    "    except Exception:\n",
    "        assert False, \"Создание модели завершается с ошибкой\"\n",
    "        return\n",
    "\n",
    "    try:\n",
    "        clf = clf.fit(X, y)\n",
    "    except Exception:\n",
    "        assert False, \"Обучение модели завершается с ошибкой\"\n",
    "        return\n",
    "\n",
    "    assert isinstance(lossf(clf.w, X, y, 1e-3, 1e-3), float), \"Функция потерь должна быть скалярной и иметь тип np.float\"\n",
    "    assert gradf(clf.w, X, y, 1e-3, 1e-3).shape == (100,), \"Размерность градиента должна совпадать с числом параметров\"\n",
    "    assert gradf(clf.w, X, y, 1e-3, 1e-3).dtype == np.float, \"Вектор градиента, должен состоять из элементов типа np.float\"\n",
    "    assert clf.predict(X).shape == (1000,), \"Размер вектора предсказаний, должен совпадать с количеством объектов\"\n",
    "    assert np.min(clf.predict_proba(X)) >= 0, \"Вероятности должны быть не меньше, чем 0\"\n",
    "    assert np.max(clf.predict_proba(X)) <= 1, \"Вероятности должны быть не больше, чем 1\"\n",
    "    assert len(set(clf.predict(X))) == 2, \"Метод предсказывает больше чем 2 класса на двух классовой задаче\"\n",
    "    print(\"End test1\")\n",
    "\n",
    "def test_work2(eps=1e-5):\n",
    "    print(\"Start test2\")\n",
    "    X, y = make_classification(n_features=100, n_samples=1000)\n",
    "    y = 2 * (y - 0.5)\n",
    "    clf = LR(lr=1e-3, l1=1e-4, l2=1e-4, num_iter=2000, verbose=1)\n",
    "    clf.fit(X, y)\n",
    "    opt = minimize(lossf, np.ones(X.shape[1]), args=(X, y, 1e-4, 1e-4), method='L-BFGS-B')\n",
    "    if (np.abs(opt.fun - lossf(clf.w ,X, y, 1e-4, 1e-4)) < 1e-4):\n",
    "        print(\"Работает в рамках погрешности EPS =\", eps, \"!\")\n",
    "    else:\n",
    "        print(\"Что-то пошло не так!-(\")\n",
    "    print(\"Start test2\")\n",
    "        \n",
    "def test_work3(eps=1e-5):\n",
    "    \"\"\"\n",
    "    Сравните работу вашей реализации и работы класса sklearn.linear_model.LogisticRegression \n",
    "    на двумерных синтетических данных\n",
    "    \"\"\"\n",
    "    # YOUR CODE HERE\n",
    "    raise NotImplemented\n",
    "    \n",
    "\n",
    "def main():\n",
    "    test_work1()\n",
    "    test_work2()\n",
    "    test_work3()\n",
    "\n",
    "\n",
    "if __name__==\"__main__\":\n",
    "    main()"
   ]
  }
 ],
 "metadata": {
  "kernelspec": {
   "display_name": "Python 3",
   "language": "python",
   "name": "python3"
  },
  "language_info": {
   "codemirror_mode": {
    "name": "ipython",
    "version": 3
   },
   "file_extension": ".py",
   "mimetype": "text/x-python",
   "name": "python",
   "nbconvert_exporter": "python",
   "pygments_lexer": "ipython3",
   "version": "3.6.0"
  }
 },
 "nbformat": 4,
 "nbformat_minor": 2
}
