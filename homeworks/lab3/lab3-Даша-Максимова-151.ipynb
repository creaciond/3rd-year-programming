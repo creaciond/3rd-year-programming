{
 "cells": [
  {
   "cell_type": "markdown",
   "metadata": {},
   "source": [
    "## Лабораторная работа 3. Визуализация данных. Метод опорных векторов. "
   ]
  },
  {
   "cell_type": "markdown",
   "metadata": {},
   "source": [
    "Постарайтесь оформить всю работу как один монолитный рассказ/отчет. Избегайте дублирования кода. Избегайте использования циклов, вместо этого ищите готовый алгоритм в пакетах. Подписывайте все графики, а также их оси, если график содержит несколько кривых, то обязательно пользуйтесь легендой. Также неукоснительно соблюдайте PEP8. За несоблюдение этих простейших правил итоговые баллы могут быть снижены безапелляционно."
   ]
  },
  {
   "cell_type": "markdown",
   "metadata": {},
   "source": [
    "<h3 align=\"center\"> Запустите следующую ячейку первой </h3>\n",
    "\n",
    "Numpy, Pandas и Matplotlib используются в обеих частях работы, так что без них никак :)"
   ]
  },
  {
   "cell_type": "code",
   "execution_count": 1,
   "metadata": {
    "collapsed": true
   },
   "outputs": [],
   "source": [
    "import numpy as np\n",
    "import pandas as pd\n",
    "import matplotlib.pyplot as plt\n",
    "%matplotlib inline  "
   ]
  },
  {
   "cell_type": "markdown",
   "metadata": {},
   "source": [
    "### 1. (8 баллов) Pandas and data visualization\n",
    "\n",
    "![](https://imgs.xkcd.com/comics/convincing.png)\n",
    "\n",
    "В этом задании вы будете работать с данными из файла ```articles.csv```."
   ]
  },
  {
   "cell_type": "markdown",
   "metadata": {},
   "source": [
    "### Решения"
   ]
  },
  {
   "cell_type": "markdown",
   "metadata": {},
   "source": [
    "**1. (1 балл)** Bизуализируйте соотношение различных издательств, используя [pie plot](http://pandas.pydata.org/pandas-docs/stable/visualization.html#visualization-pie)."
   ]
  },
  {
   "cell_type": "code",
   "execution_count": 2,
   "metadata": {},
   "outputs": [
    {
     "data": {
      "text/html": [
       "<div>\n",
       "<style>\n",
       "    .dataframe thead tr:only-child th {\n",
       "        text-align: right;\n",
       "    }\n",
       "\n",
       "    .dataframe thead th {\n",
       "        text-align: left;\n",
       "    }\n",
       "\n",
       "    .dataframe tbody tr th {\n",
       "        vertical-align: top;\n",
       "    }\n",
       "</style>\n",
       "<table border=\"1\" class=\"dataframe\">\n",
       "  <thead>\n",
       "    <tr style=\"text-align: right;\">\n",
       "      <th></th>\n",
       "      <th>id</th>\n",
       "      <th>title</th>\n",
       "      <th>publication</th>\n",
       "      <th>author</th>\n",
       "      <th>date</th>\n",
       "      <th>year</th>\n",
       "      <th>month</th>\n",
       "      <th>content</th>\n",
       "    </tr>\n",
       "  </thead>\n",
       "  <tbody>\n",
       "    <tr>\n",
       "      <th>0</th>\n",
       "      <td>17283</td>\n",
       "      <td>House Republicans Fret About Winning Their Hea...</td>\n",
       "      <td>New York Times</td>\n",
       "      <td>Carl Hulse</td>\n",
       "      <td>2016-12-31</td>\n",
       "      <td>2016</td>\n",
       "      <td>12</td>\n",
       "      <td>WASHINGTON  —   Congressional Republicans have...</td>\n",
       "    </tr>\n",
       "    <tr>\n",
       "      <th>1</th>\n",
       "      <td>17284</td>\n",
       "      <td>Rift Between Officers and Residents as Killing...</td>\n",
       "      <td>New York Times</td>\n",
       "      <td>Benjamin Mueller and Al Baker</td>\n",
       "      <td>2017-06-19</td>\n",
       "      <td>2017</td>\n",
       "      <td>6</td>\n",
       "      <td>After the bullet shells get counted, the blood...</td>\n",
       "    </tr>\n",
       "    <tr>\n",
       "      <th>2</th>\n",
       "      <td>17285</td>\n",
       "      <td>Tyrus Wong, ‘Bambi’ Artist Thwarted by Racial ...</td>\n",
       "      <td>New York Times</td>\n",
       "      <td>Margalit Fox</td>\n",
       "      <td>2017-01-06</td>\n",
       "      <td>2017</td>\n",
       "      <td>1</td>\n",
       "      <td>When Walt Disney’s “Bambi” opened in 1942, cri...</td>\n",
       "    </tr>\n",
       "    <tr>\n",
       "      <th>3</th>\n",
       "      <td>17286</td>\n",
       "      <td>Among Deaths in 2016, a Heavy Toll in Pop Musi...</td>\n",
       "      <td>New York Times</td>\n",
       "      <td>William McDonald</td>\n",
       "      <td>2017-04-10</td>\n",
       "      <td>2017</td>\n",
       "      <td>4</td>\n",
       "      <td>Death may be the great equalizer, but it isn’t...</td>\n",
       "    </tr>\n",
       "    <tr>\n",
       "      <th>4</th>\n",
       "      <td>17287</td>\n",
       "      <td>Kim Jong-un Says North Korea Is Preparing to T...</td>\n",
       "      <td>New York Times</td>\n",
       "      <td>Choe Sang-Hun</td>\n",
       "      <td>2017-01-02</td>\n",
       "      <td>2017</td>\n",
       "      <td>1</td>\n",
       "      <td>SEOUL, South Korea  —   North Korea’s leader, ...</td>\n",
       "    </tr>\n",
       "  </tbody>\n",
       "</table>\n",
       "</div>"
      ],
      "text/plain": [
       "      id                                              title     publication  \\\n",
       "0  17283  House Republicans Fret About Winning Their Hea...  New York Times   \n",
       "1  17284  Rift Between Officers and Residents as Killing...  New York Times   \n",
       "2  17285  Tyrus Wong, ‘Bambi’ Artist Thwarted by Racial ...  New York Times   \n",
       "3  17286  Among Deaths in 2016, a Heavy Toll in Pop Musi...  New York Times   \n",
       "4  17287  Kim Jong-un Says North Korea Is Preparing to T...  New York Times   \n",
       "\n",
       "                          author        date  year  month  \\\n",
       "0                     Carl Hulse  2016-12-31  2016     12   \n",
       "1  Benjamin Mueller and Al Baker  2017-06-19  2017      6   \n",
       "2                   Margalit Fox  2017-01-06  2017      1   \n",
       "3               William McDonald  2017-04-10  2017      4   \n",
       "4                  Choe Sang-Hun  2017-01-02  2017      1   \n",
       "\n",
       "                                             content  \n",
       "0  WASHINGTON  —   Congressional Republicans have...  \n",
       "1  After the bullet shells get counted, the blood...  \n",
       "2  When Walt Disney’s “Bambi” opened in 1942, cri...  \n",
       "3  Death may be the great equalizer, but it isn’t...  \n",
       "4  SEOUL, South Korea  —   North Korea’s leader, ...  "
      ]
     },
     "execution_count": 2,
     "metadata": {},
     "output_type": "execute_result"
    }
   ],
   "source": [
    "df = pd.read_csv(\"./articles.csv\")\n",
    "df.head()"
   ]
  },
  {
   "cell_type": "code",
   "execution_count": 3,
   "metadata": {},
   "outputs": [
    {
     "data": {
      "image/png": "[encoded data removed]",
      "text/plain": [
       "<matplotlib.figure.Figure at 0x111153940>"
      ]
     },
     "metadata": {},
     "output_type": "display_data"
    }
   ],
   "source": [
    "publishers = df[\"publication\"].unique()\n",
    "amounts = df[\"publication\"].value_counts()\n",
    "plt.pie(amounts, labels=publishers)\n",
    "plt.show()"
   ]
  },
  {
   "cell_type": "markdown",
   "metadata": {},
   "source": [
    "**2. (2 балла)** Постройте распределение колличества публикаций каждого издания по каждому году, используя [bar plot](http://pandas.pydata.org/pandas-docs/stable/visualization.html#visualization-barplot). В какой год было больше всего публикаций?"
   ]
  },
  {
   "cell_type": "code",
   "execution_count": 4,
   "metadata": {},
   "outputs": [
    {
     "data": {
      "image/png": "[encoded data removed]",
      "text/plain": [
       "<matplotlib.figure.Figure at 0x10e24a470>"
      ]
     },
     "metadata": {},
     "output_type": "display_data"
    }
   ],
   "source": [
    "years = df[\"year\"].unique()\n",
    "amounts = df[\"year\"].value_counts()\n",
    "plt.bar(years, amounts, tick_label=years)\n",
    "plt.show()"
   ]
  },
  {
   "cell_type": "markdown",
   "metadata": {},
   "source": [
    "Больше всего публикаций было в 2016 году (около 28 тысяч)."
   ]
  },
  {
   "cell_type": "markdown",
   "metadata": {},
   "source": [
    "**3. (3 балла)** Опредилите топ-10 авторов для года с наибольшим количеством публикаций (обратите внимание, что у некоторых статей несколько авторов - это нужно учитывать)."
   ]
  },
  {
   "cell_type": "code",
   "execution_count": null,
   "metadata": {
    "collapsed": true
   },
   "outputs": [],
   "source": []
  },
  {
   "cell_type": "markdown",
   "metadata": {},
   "source": [
    "**4. (2 балла)** Постройте распределение количества публикаций авторов из предыдущего задания по месяцам, используя [hist plot](http://pandas.pydata.org/pandas-docs/stable/visualization.html#visualization-hist)."
   ]
  },
  {
   "cell_type": "code",
   "execution_count": null,
   "metadata": {
    "collapsed": true
   },
   "outputs": [],
   "source": []
  },
  {
   "cell_type": "markdown",
   "metadata": {},
   "source": [
    "### 2. (12 баллов) Sklearn and support vector machine\n",
    "\n",
    "![](https://www.analyticsvidhya.com/wp-content/uploads/2015/06/10945756_10202550638602268_6848260291113352290_n.jpg)\n",
    "\n",
    "В этом задании вы будете работать с данными из репозитория UCI. Датасет называется [YouTube Spam Collection Data Set](https://archive.ics.uci.edu/ml/datasets/YouTube+Spam+Collection). На этом датасете вы будете решать задачу определения спама по комментарию к видео-ролику на Youtube.\n"
   ]
  },
  {
   "cell_type": "markdown",
   "metadata": {},
   "source": [
    "### Все import-ы для этой секции"
   ]
  },
  {
   "cell_type": "code",
   "execution_count": null,
   "metadata": {
    "collapsed": true
   },
   "outputs": [],
   "source": [
    "import os\n",
    "import pandas as pd\n",
    "\n",
    "import datetime\n",
    "\n",
    "from sklearn.feature_extraction.text import CountVectorizer as CV\n",
    "from sklearn.svm import SVC\n",
    "from sklearn.model_selection import GridSearchCV, train_test_split"
   ]
  },
  {
   "cell_type": "markdown",
   "metadata": {},
   "source": [
    "### Решения"
   ]
  },
  {
   "cell_type": "markdown",
   "metadata": {},
   "source": [
    "**1. (2 балла)** Скачайте данные из репозитория UCI (не меняйте названия исходных датасетов!). Объедените все пять таблиц в одну, добавив колонку ```'CLIP'``` с именем исполнителя в клипе. Выведите основную статистику датасета, ответив на вопросы: \n",
    "* топ5 самых коротких/длинных комментариев? \n",
    "* каково распределение между классами? \n",
    "* сколько уникальных авторов комментариев в данных?"
   ]
  },
  {
   "cell_type": "code",
   "execution_count": null,
   "metadata": {
    "collapsed": true
   },
   "outputs": [],
   "source": [
    "dataset_folder = \".\" + os.sep + \"YouTube-Spam-Collection-v1\"\n",
    "\n",
    "df = pd.DataFrame()\n",
    "\n",
    "for dataset_file in os.listdir(dataset_folder):\n",
    "    if dataset_file.endswith(\".csv\"):\n",
    "        this_df = pd.read_csv(dataset_folder + os.sep + dataset_file, sep=\",\")\n",
    "        this_df[\"CLIP\"] = dataset_file[dataset_file.index(\"-\")+1:-4]\n",
    "        df = df.append(this_df)"
   ]
  },
  {
   "cell_type": "markdown",
   "metadata": {},
   "source": [
    "#### _Датасет в целом_"
   ]
  },
  {
   "cell_type": "code",
   "execution_count": null,
   "metadata": {
    "collapsed": true
   },
   "outputs": [],
   "source": [
    "df.head()"
   ]
  },
  {
   "cell_type": "markdown",
   "metadata": {},
   "source": [
    "#### _Самые длинные и короткие комментарии_"
   ]
  },
  {
   "cell_type": "markdown",
   "metadata": {},
   "source": [
    "#### _Распределение между классами_\n",
    "\n",
    "Цифрами:"
   ]
  },
  {
   "cell_type": "code",
   "execution_count": null,
   "metadata": {
    "collapsed": true
   },
   "outputs": [],
   "source": [
    "df[\"CLASS\"].value_counts()"
   ]
  },
  {
   "cell_type": "markdown",
   "metadata": {},
   "source": [
    "Картинкой:"
   ]
  },
  {
   "cell_type": "code",
   "execution_count": null,
   "metadata": {
    "collapsed": true
   },
   "outputs": [],
   "source": [
    "amounts = df[\"CLASS\"].value_counts()\n",
    "plt.pie(amounts, labels=df[\"CLASS\"].unique())\n",
    "plt.show()"
   ]
  },
  {
   "cell_type": "markdown",
   "metadata": {},
   "source": [
    "#### _Уникальные авторы комментариев_"
   ]
  },
  {
   "cell_type": "code",
   "execution_count": null,
   "metadata": {
    "collapsed": true
   },
   "outputs": [],
   "source": [
    "len(df[\"AUTHOR\"].unique())"
   ]
  },
  {
   "cell_type": "markdown",
   "metadata": {},
   "source": [
    "**2. (2 балла)** Перед тем как воспользоваться методом главных компонент на текстовых данных, их надо преобразовать в числовые. В этом задании вам предется самим разобраться с простой векторной моделью ```bag of words```. В этом вам помогут ссылки [wiki](https://en.wikipedia.org/wiki/Bag-of-words_model), [stackoverflow](https://stackoverflow.com/questions/44083683/countvectorizer-with-pandas-dataframe), [github](https://gist.github.com/kovid-rathee/3bdd9334409d583e6ee6430b8e45516d). Создайте векторное представление колонки ```'CONTENT'```, для этого используйте [sklearn.feature_extraction.text.CountVectorizer](http://scikit-learn.org/stable/modules/generated/sklearn.feature_extraction.text.CountVectorizer.html). В конструкторе задайте параметры ```lowercase=True```, ```stop_words='english'```. Полученное преобразование занесите в переменную `X`. Также отделите от исходного датафрейма целевую метку класса в переменную `y`. Разбейте данные на обучающую и тестовую выборки в отношении `7:3`, добавьте суффиксы `train` и `test` соответственно к переменным `X` и `y`."
   ]
  },
  {
   "cell_type": "code",
   "execution_count": null,
   "metadata": {
    "collapsed": true
   },
   "outputs": [],
   "source": [
    "# from sklearn.feature_extraction import text.CountVectorizer as CV\n",
    "count_vectorizer = CV(lowercase=True, stop_words='english')\n",
    "\n",
    "X = count_vectorizer.fit_transform(df[\"CONTENT\"].values)\n",
    "y = df[\"CLASS\"].values"
   ]
  },
  {
   "cell_type": "code",
   "execution_count": null,
   "metadata": {
    "collapsed": true
   },
   "outputs": [],
   "source": [
    "X_train, X_test, y_train, y_test = train_test_split(X, y, test_size=0.3, train_size=0.7)"
   ]
  },
  {
   "cell_type": "markdown",
   "metadata": {},
   "source": [
    "**3. (4 балла)** Обучите метод опорных векторов с различными гиперпараметрами на данных полученных в предыдущем задании. Для этого используйте класс [sklearn.svm.SVC](http://scikit-learn.org/stable/modules/generated/sklearn.svm.SVC.html) с общим параметром `class_weight='balanced'`. Для перебора параметров используйте [sklearn.model_selection.GridSearchCV](http://scikit-learn.org/stable/modules/generated/sklearn.model_selection.GridSearchCV.html) с параметрами `cv=5`, `scoring='accuracy'`. Используйте разные ядра:\n",
    "\n",
    "- `kernel='linear'`, `C=[1.e-4, 1.e-3, 1.e-2, 1.e-1, 1, 2, 10, 50, 100, 1000]`\n",
    "- `kernel='rbf'`, `C=[...]`, `gamma=['auto', 1.e-4, 1.e-3, 1.e-2, 1.e-2]`\n",
    "- `kernel='poly'`, `C=[...]`, `degree=[2, 3, 5, 11]`\n",
    "\n",
    "Ответьте на вопросы. Для каких гиперпараметров модели получились переобученными? Модели с каким ядром работают хуже/лучше? Как вы думаете почему?\n",
    "\n",
    "Выберите лучшую модель и ответьте на вопросы. Сколько опорных векторов в модели? Выведите комментарии, соответствующие опорным векторам-нарушителям, граничным опорным векторам. Для тестовых данных найдите комментарии с наибольшим и наименьшим отступом от разделяющей гиперплоскости. Объясните почему получаются такие результаты. Найдите топ10 слов наиболее голосующих за спамные комментарии. Также объясните почему получаются такие результаты."
   ]
  },
  {
   "cell_type": "code",
   "execution_count": null,
   "metadata": {
    "collapsed": true
   },
   "outputs": [],
   "source": [
    "linear_svc = SVC(class_weight=\"balanced\", kernel=\"linear\")\n",
    "rbf_svc = SVC(class_weight=\"balanced\", kernel=\"rbf\")\n",
    "poly_svc = SVC(class_weight=\"balanced\", kernel=\"poly\")"
   ]
  },
  {
   "cell_type": "code",
   "execution_count": null,
   "metadata": {
    "collapsed": true
   },
   "outputs": [],
   "source": [
    "linear_params = {\"C\": [1.e-4, 1.e-3, 1.e-2, 1.e-1, 1, 2, 10, 50, 100, 1000]}\n",
    "rbf_params = {\"C\": [1.e-4, 1.e-3, 1.e-2, 1.e-1, 1, 2, 10, 50, 100, 1000], \n",
    "              \"gamma\": ['auto', 1.e-4, 1.e-3, 1.e-2, 1.e-2]}\n",
    "poly_params = {\"C\": [1.e-4, 1.e-3, 1.e-2, 1.e-1, 1, 2, 10, 50, 100, 1000],\n",
    "               \"degree\": [2, 3, 5, 11]}"
   ]
  },
  {
   "cell_type": "markdown",
   "metadata": {},
   "source": [
    "#### **Линейное ядро**"
   ]
  },
  {
   "cell_type": "code",
   "execution_count": null,
   "metadata": {
    "collapsed": true
   },
   "outputs": [],
   "source": [
    "grid_searcher = GridSearchCV(linear_svc, linear_params, cv=5, scoring=\"accuracy\")\n",
    "grid_searcher.fit(X_train, y_train)\n",
    "grid_searcher.best_score_"
   ]
  },
  {
   "cell_type": "markdown",
   "metadata": {},
   "source": [
    "#### **RBF ядро**"
   ]
  },
  {
   "cell_type": "code",
   "execution_count": null,
   "metadata": {
    "collapsed": true
   },
   "outputs": [],
   "source": [
    "grid_searcher = GridSearchCV(rbf_svc, rbf_params, cv=5, scoring=\"accuracy\")\n",
    "grid_searcher.fit(X_train, y_train)\n",
    "grid_searcher.best_score_"
   ]
  },
  {
   "cell_type": "markdown",
   "metadata": {},
   "source": [
    "#### **Полиномиальное ядро**"
   ]
  },
  {
   "cell_type": "code",
   "execution_count": null,
   "metadata": {
    "collapsed": true
   },
   "outputs": [],
   "source": [
    "grid_searcher = GridSearchCV(poly_svc, poly_params, cv=5, scoring=\"accuracy\")\n",
    "grid_searcher.fit(X_train, y_train)\n",
    "grid_searcher.best_score_"
   ]
  },
  {
   "cell_type": "markdown",
   "metadata": {},
   "source": [
    "**4. (2 балла)** В прошлом задании мы учитывали только сам комментарий для классификации и не учитывали другую информацию из исходной таблицы. Добавьте новые признаки: ``'YEAR'``, ``'MONTH'``, `'DAY'` - в качестве вещественных признаков; `'CLIP'` - в качестве категориального признака, используя `one-hot encoding`; `'AUTHOR'` - в рамках модели `bag of words`. Обучите на новых данных метод опорных векторов с гиперпараметрами лучшего классификатора предыдущего задания. Ответьте на вопросы. Как изменились результаты? Как вы думаете почему?"
   ]
  },
  {
   "cell_type": "code",
   "execution_count": null,
   "metadata": {
    "collapsed": true
   },
   "outputs": [],
   "source": [
    "df[\"AUTHOR_VECT\"] = count_vectorizer.fit_transform(df[\"AUTHOR\"])"
   ]
  },
  {
   "cell_type": "markdown",
   "metadata": {},
   "source": [
    "**5. (2 балла)** Давайте будем решать другую задачу на этих же данных. Научимся предсказывать клип по комментарию к нему. Теперь целевая переменная `y` - это столбец `'CLIP'` исходных данных, а `X` такой же как и в задании 2. Повторите численный эксперимент заданий 2 и 3 для новой задачи. Выберите лучшую модель. Отличается ли качество решения двух разных задач для одних и тех же данных для обучения? Как вы думаете почему? "
   ]
  },
  {
   "cell_type": "code",
   "execution_count": null,
   "metadata": {
    "collapsed": true
   },
   "outputs": [],
   "source": []
  },
  {
   "cell_type": "markdown",
   "metadata": {},
   "source": [
    "### 3. (10 баллов) Бонусное задание\n",
    "\n",
    "![](http://blog.adnanmasood.com/wp-content/uploads/2015/06/joke1.png)\n",
    "\n",
    "Покажите этим ребятам силу лингвистов, решив следующую задачу:)"
   ]
  },
  {
   "cell_type": "markdown",
   "metadata": {},
   "source": [
    "**1. (10 баллов)** Классический линейный метод опорных векторов приводит к задаче квадратичного программирования:\n",
    "\n",
    "\\begin{cases}\n",
    "\\dfrac{1}{2}||w||^2 + C \\sum_{i=1}^{l}\\xi_i \\to \\min_{w, \\xi} \\\\\n",
    "y_i \\langle w, x_i \\rangle \\geq 1 - \\xi_i, \\ \\forall i=1\\dots l \\\\\n",
    "xi_i\\geq0,  \\ \\forall i=1\\dots l\n",
    "\\end{cases}\n",
    "\n",
    "Какую функцию потерь оптимизирует линейный метод опорных векторов, если задачу свести к безусловной оптимизации регуляризованной функции потерь? Постройте задачу квадратичного программирования аналогичную SVM, но для оптимизации регуляризованной функции потерь вида:\n",
    "\\begin{cases}\n",
    "(M-1)^2, \\ M < 1 \\\\\n",
    "0, M\\geq1\n",
    "\\end{cases}\n",
    "Выпишите двойственную к ней задачу."
   ]
  },
  {
   "cell_type": "code",
   "execution_count": null,
   "metadata": {
    "collapsed": true
   },
   "outputs": [],
   "source": []
  }
 ],
 "metadata": {
  "kernelspec": {
   "display_name": "Python 3",
   "language": "python",
   "name": "python3"
  },
  "language_info": {
   "codemirror_mode": {
    "name": "ipython",
    "version": 3
   },
   "file_extension": ".py",
   "mimetype": "text/x-python",
   "name": "python",
   "nbconvert_exporter": "python",
   "pygments_lexer": "ipython3",
   "version": "3.6.2"
  }
 },
 "nbformat": 4,
 "nbformat_minor": 2
}
